{
  "nbformat": 4,
  "nbformat_minor": 0,
  "metadata": {
    "colab": {
      "name": "Titanic_Kaggle.ipynb",
      "provenance": [],
      "collapsed_sections": []
    },
    "kernelspec": {
      "name": "python3",
      "display_name": "Python 3"
    },
    "language_info": {
      "name": "python"
    },
    "accelerator": "GPU"
  },
  "cells": [
    {
      "cell_type": "markdown",
      "metadata": {
        "id": "eOyapxj8RZwg"
      },
      "source": [
        "# Unzipping dataset"
      ]
    },
    {
      "cell_type": "code",
      "metadata": {
        "colab": {
          "base_uri": "https://localhost:8080/"
        },
        "id": "DtQQvrh5QT-v",
        "outputId": "6ed53e1e-f61b-42c1-818d-15f83d47db7a"
      },
      "source": [
        "!unzip \"/content/titanic.zip\" -d \"/content\""
      ],
      "execution_count": 1,
      "outputs": [
        {
          "output_type": "stream",
          "text": [
            "Archive:  /content/titanic.zip\n",
            "  inflating: /content/gender_submission.csv  \n",
            "  inflating: /content/test.csv       \n",
            "  inflating: /content/train.csv      \n"
          ],
          "name": "stdout"
        }
      ]
    },
    {
      "cell_type": "markdown",
      "metadata": {
        "id": "KLXe43DbRc_7"
      },
      "source": [
        "# Importing Libraries"
      ]
    },
    {
      "cell_type": "code",
      "metadata": {
        "id": "Guht9f1FQk5J"
      },
      "source": [
        "import numpy as np\n",
        "import pandas as pd\n",
        "import matplotlib.pyplot as plt\n",
        "import seaborn as sns\n",
        "from sklearn.preprocessing import StandardScaler, LabelEncoder\n",
        "from sklearn.compose import ColumnTransformer\n",
        "from sklearn.model_selection import train_test_split, cross_val_score, GridSearchCV\n",
        "from sklearn.linear_model import LogisticRegression\n",
        "from sklearn.neighbors import KNeighborsClassifier\n",
        "from sklearn.svm import SVC\n",
        "from sklearn.naive_bayes import GaussianNB\n",
        "from sklearn.tree import DecisionTreeClassifier\n",
        "from sklearn.ensemble import RandomForestClassifier\n",
        "from xgboost import XGBClassifier\n",
        "from lightgbm import LGBMClassifier\n",
        "from sklearn.metrics import confusion_matrix, accuracy_score, roc_auc_score\n",
        "import tensorflow as tf\n",
        "from tensorflow.keras.models import Sequential\n",
        "from tensorflow.keras.layers import Dense, Dropout\n",
        "import warnings\n",
        "import re\n",
        "warnings.filterwarnings('ignore')\n",
        "%matplotlib inline"
      ],
      "execution_count": 2,
      "outputs": []
    },
    {
      "cell_type": "markdown",
      "metadata": {
        "id": "8fX16GgxRfUY"
      },
      "source": [
        "# Importind Dataset"
      ]
    },
    {
      "cell_type": "code",
      "metadata": {
        "id": "4Ou8TgleQ00o"
      },
      "source": [
        "df = pd.read_csv('train.csv')"
      ],
      "execution_count": 3,
      "outputs": []
    },
    {
      "cell_type": "code",
      "metadata": {
        "id": "H5-nTgMhQ07Z"
      },
      "source": [
        "test = pd.read_csv('test.csv')"
      ],
      "execution_count": 241,
      "outputs": []
    },
    {
      "cell_type": "code",
      "metadata": {
        "colab": {
          "base_uri": "https://localhost:8080/",
          "height": 237
        },
        "id": "vtU9RgqIQ09_",
        "outputId": "0c17105c-3cd3-47b7-aece-9d5aabd1410f"
      },
      "source": [
        "df.head()"
      ],
      "execution_count": 5,
      "outputs": [
        {
          "output_type": "execute_result",
          "data": {
            "text/html": [
              "<div>\n",
              "<style scoped>\n",
              "    .dataframe tbody tr th:only-of-type {\n",
              "        vertical-align: middle;\n",
              "    }\n",
              "\n",
              "    .dataframe tbody tr th {\n",
              "        vertical-align: top;\n",
              "    }\n",
              "\n",
              "    .dataframe thead th {\n",
              "        text-align: right;\n",
              "    }\n",
              "</style>\n",
              "<table border=\"1\" class=\"dataframe\">\n",
              "  <thead>\n",
              "    <tr style=\"text-align: right;\">\n",
              "      <th></th>\n",
              "      <th>PassengerId</th>\n",
              "      <th>Survived</th>\n",
              "      <th>Pclass</th>\n",
              "      <th>Name</th>\n",
              "      <th>Sex</th>\n",
              "      <th>Age</th>\n",
              "      <th>SibSp</th>\n",
              "      <th>Parch</th>\n",
              "      <th>Ticket</th>\n",
              "      <th>Fare</th>\n",
              "      <th>Cabin</th>\n",
              "      <th>Embarked</th>\n",
              "    </tr>\n",
              "  </thead>\n",
              "  <tbody>\n",
              "    <tr>\n",
              "      <th>0</th>\n",
              "      <td>1</td>\n",
              "      <td>0</td>\n",
              "      <td>3</td>\n",
              "      <td>Braund, Mr. Owen Harris</td>\n",
              "      <td>male</td>\n",
              "      <td>22.0</td>\n",
              "      <td>1</td>\n",
              "      <td>0</td>\n",
              "      <td>A/5 21171</td>\n",
              "      <td>7.2500</td>\n",
              "      <td>NaN</td>\n",
              "      <td>S</td>\n",
              "    </tr>\n",
              "    <tr>\n",
              "      <th>1</th>\n",
              "      <td>2</td>\n",
              "      <td>1</td>\n",
              "      <td>1</td>\n",
              "      <td>Cumings, Mrs. John Bradley (Florence Briggs Th...</td>\n",
              "      <td>female</td>\n",
              "      <td>38.0</td>\n",
              "      <td>1</td>\n",
              "      <td>0</td>\n",
              "      <td>PC 17599</td>\n",
              "      <td>71.2833</td>\n",
              "      <td>C85</td>\n",
              "      <td>C</td>\n",
              "    </tr>\n",
              "    <tr>\n",
              "      <th>2</th>\n",
              "      <td>3</td>\n",
              "      <td>1</td>\n",
              "      <td>3</td>\n",
              "      <td>Heikkinen, Miss. Laina</td>\n",
              "      <td>female</td>\n",
              "      <td>26.0</td>\n",
              "      <td>0</td>\n",
              "      <td>0</td>\n",
              "      <td>STON/O2. 3101282</td>\n",
              "      <td>7.9250</td>\n",
              "      <td>NaN</td>\n",
              "      <td>S</td>\n",
              "    </tr>\n",
              "    <tr>\n",
              "      <th>3</th>\n",
              "      <td>4</td>\n",
              "      <td>1</td>\n",
              "      <td>1</td>\n",
              "      <td>Futrelle, Mrs. Jacques Heath (Lily May Peel)</td>\n",
              "      <td>female</td>\n",
              "      <td>35.0</td>\n",
              "      <td>1</td>\n",
              "      <td>0</td>\n",
              "      <td>113803</td>\n",
              "      <td>53.1000</td>\n",
              "      <td>C123</td>\n",
              "      <td>S</td>\n",
              "    </tr>\n",
              "    <tr>\n",
              "      <th>4</th>\n",
              "      <td>5</td>\n",
              "      <td>0</td>\n",
              "      <td>3</td>\n",
              "      <td>Allen, Mr. William Henry</td>\n",
              "      <td>male</td>\n",
              "      <td>35.0</td>\n",
              "      <td>0</td>\n",
              "      <td>0</td>\n",
              "      <td>373450</td>\n",
              "      <td>8.0500</td>\n",
              "      <td>NaN</td>\n",
              "      <td>S</td>\n",
              "    </tr>\n",
              "  </tbody>\n",
              "</table>\n",
              "</div>"
            ],
            "text/plain": [
              "   PassengerId  Survived  Pclass  ...     Fare Cabin  Embarked\n",
              "0            1         0       3  ...   7.2500   NaN         S\n",
              "1            2         1       1  ...  71.2833   C85         C\n",
              "2            3         1       3  ...   7.9250   NaN         S\n",
              "3            4         1       1  ...  53.1000  C123         S\n",
              "4            5         0       3  ...   8.0500   NaN         S\n",
              "\n",
              "[5 rows x 12 columns]"
            ]
          },
          "metadata": {
            "tags": []
          },
          "execution_count": 5
        }
      ]
    },
    {
      "cell_type": "markdown",
      "metadata": {
        "id": "w9JYBXOHaHiz"
      },
      "source": [
        "On a first glance, the following features would not be of much help to us.\n",
        "\n",
        "*   PassengerId\n",
        "*   Name\n",
        "*   Ticket\n",
        "*   Fare\n",
        "\n",
        "\n",
        "\n"
      ]
    },
    {
      "cell_type": "code",
      "metadata": {
        "colab": {
          "base_uri": "https://localhost:8080/"
        },
        "id": "r5FSHr9OR6dR",
        "outputId": "4bd8ae93-ea21-46c2-86fb-06230335c475"
      },
      "source": [
        "df.info()"
      ],
      "execution_count": 6,
      "outputs": [
        {
          "output_type": "stream",
          "text": [
            "<class 'pandas.core.frame.DataFrame'>\n",
            "RangeIndex: 891 entries, 0 to 890\n",
            "Data columns (total 12 columns):\n",
            " #   Column       Non-Null Count  Dtype  \n",
            "---  ------       --------------  -----  \n",
            " 0   PassengerId  891 non-null    int64  \n",
            " 1   Survived     891 non-null    int64  \n",
            " 2   Pclass       891 non-null    int64  \n",
            " 3   Name         891 non-null    object \n",
            " 4   Sex          891 non-null    object \n",
            " 5   Age          714 non-null    float64\n",
            " 6   SibSp        891 non-null    int64  \n",
            " 7   Parch        891 non-null    int64  \n",
            " 8   Ticket       891 non-null    object \n",
            " 9   Fare         891 non-null    float64\n",
            " 10  Cabin        204 non-null    object \n",
            " 11  Embarked     889 non-null    object \n",
            "dtypes: float64(2), int64(5), object(5)\n",
            "memory usage: 83.7+ KB\n"
          ],
          "name": "stdout"
        }
      ]
    },
    {
      "cell_type": "code",
      "metadata": {
        "colab": {
          "base_uri": "https://localhost:8080/",
          "height": 295
        },
        "id": "nQ7HoS69b4DN",
        "outputId": "e317f755-199e-4c6c-c5f4-f3265994b501"
      },
      "source": [
        "df.describe()"
      ],
      "execution_count": 7,
      "outputs": [
        {
          "output_type": "execute_result",
          "data": {
            "text/html": [
              "<div>\n",
              "<style scoped>\n",
              "    .dataframe tbody tr th:only-of-type {\n",
              "        vertical-align: middle;\n",
              "    }\n",
              "\n",
              "    .dataframe tbody tr th {\n",
              "        vertical-align: top;\n",
              "    }\n",
              "\n",
              "    .dataframe thead th {\n",
              "        text-align: right;\n",
              "    }\n",
              "</style>\n",
              "<table border=\"1\" class=\"dataframe\">\n",
              "  <thead>\n",
              "    <tr style=\"text-align: right;\">\n",
              "      <th></th>\n",
              "      <th>PassengerId</th>\n",
              "      <th>Survived</th>\n",
              "      <th>Pclass</th>\n",
              "      <th>Age</th>\n",
              "      <th>SibSp</th>\n",
              "      <th>Parch</th>\n",
              "      <th>Fare</th>\n",
              "    </tr>\n",
              "  </thead>\n",
              "  <tbody>\n",
              "    <tr>\n",
              "      <th>count</th>\n",
              "      <td>891.000000</td>\n",
              "      <td>891.000000</td>\n",
              "      <td>891.000000</td>\n",
              "      <td>714.000000</td>\n",
              "      <td>891.000000</td>\n",
              "      <td>891.000000</td>\n",
              "      <td>891.000000</td>\n",
              "    </tr>\n",
              "    <tr>\n",
              "      <th>mean</th>\n",
              "      <td>446.000000</td>\n",
              "      <td>0.383838</td>\n",
              "      <td>2.308642</td>\n",
              "      <td>29.699118</td>\n",
              "      <td>0.523008</td>\n",
              "      <td>0.381594</td>\n",
              "      <td>32.204208</td>\n",
              "    </tr>\n",
              "    <tr>\n",
              "      <th>std</th>\n",
              "      <td>257.353842</td>\n",
              "      <td>0.486592</td>\n",
              "      <td>0.836071</td>\n",
              "      <td>14.526497</td>\n",
              "      <td>1.102743</td>\n",
              "      <td>0.806057</td>\n",
              "      <td>49.693429</td>\n",
              "    </tr>\n",
              "    <tr>\n",
              "      <th>min</th>\n",
              "      <td>1.000000</td>\n",
              "      <td>0.000000</td>\n",
              "      <td>1.000000</td>\n",
              "      <td>0.420000</td>\n",
              "      <td>0.000000</td>\n",
              "      <td>0.000000</td>\n",
              "      <td>0.000000</td>\n",
              "    </tr>\n",
              "    <tr>\n",
              "      <th>25%</th>\n",
              "      <td>223.500000</td>\n",
              "      <td>0.000000</td>\n",
              "      <td>2.000000</td>\n",
              "      <td>20.125000</td>\n",
              "      <td>0.000000</td>\n",
              "      <td>0.000000</td>\n",
              "      <td>7.910400</td>\n",
              "    </tr>\n",
              "    <tr>\n",
              "      <th>50%</th>\n",
              "      <td>446.000000</td>\n",
              "      <td>0.000000</td>\n",
              "      <td>3.000000</td>\n",
              "      <td>28.000000</td>\n",
              "      <td>0.000000</td>\n",
              "      <td>0.000000</td>\n",
              "      <td>14.454200</td>\n",
              "    </tr>\n",
              "    <tr>\n",
              "      <th>75%</th>\n",
              "      <td>668.500000</td>\n",
              "      <td>1.000000</td>\n",
              "      <td>3.000000</td>\n",
              "      <td>38.000000</td>\n",
              "      <td>1.000000</td>\n",
              "      <td>0.000000</td>\n",
              "      <td>31.000000</td>\n",
              "    </tr>\n",
              "    <tr>\n",
              "      <th>max</th>\n",
              "      <td>891.000000</td>\n",
              "      <td>1.000000</td>\n",
              "      <td>3.000000</td>\n",
              "      <td>80.000000</td>\n",
              "      <td>8.000000</td>\n",
              "      <td>6.000000</td>\n",
              "      <td>512.329200</td>\n",
              "    </tr>\n",
              "  </tbody>\n",
              "</table>\n",
              "</div>"
            ],
            "text/plain": [
              "       PassengerId    Survived      Pclass  ...       SibSp       Parch        Fare\n",
              "count   891.000000  891.000000  891.000000  ...  891.000000  891.000000  891.000000\n",
              "mean    446.000000    0.383838    2.308642  ...    0.523008    0.381594   32.204208\n",
              "std     257.353842    0.486592    0.836071  ...    1.102743    0.806057   49.693429\n",
              "min       1.000000    0.000000    1.000000  ...    0.000000    0.000000    0.000000\n",
              "25%     223.500000    0.000000    2.000000  ...    0.000000    0.000000    7.910400\n",
              "50%     446.000000    0.000000    3.000000  ...    0.000000    0.000000   14.454200\n",
              "75%     668.500000    1.000000    3.000000  ...    1.000000    0.000000   31.000000\n",
              "max     891.000000    1.000000    3.000000  ...    8.000000    6.000000  512.329200\n",
              "\n",
              "[8 rows x 7 columns]"
            ]
          },
          "metadata": {
            "tags": []
          },
          "execution_count": 7
        }
      ]
    },
    {
      "cell_type": "markdown",
      "metadata": {
        "id": "Vw0fg68jSN2d"
      },
      "source": [
        "#### Let us check for missing values."
      ]
    },
    {
      "cell_type": "code",
      "metadata": {
        "colab": {
          "base_uri": "https://localhost:8080/"
        },
        "id": "1h_IFO60Q7xp",
        "outputId": "8595df97-2349-422d-95af-076effc1458c"
      },
      "source": [
        "df.isnull().sum()/len(df)*100"
      ],
      "execution_count": 8,
      "outputs": [
        {
          "output_type": "execute_result",
          "data": {
            "text/plain": [
              "PassengerId     0.000000\n",
              "Survived        0.000000\n",
              "Pclass          0.000000\n",
              "Name            0.000000\n",
              "Sex             0.000000\n",
              "Age            19.865320\n",
              "SibSp           0.000000\n",
              "Parch           0.000000\n",
              "Ticket          0.000000\n",
              "Fare            0.000000\n",
              "Cabin          77.104377\n",
              "Embarked        0.224467\n",
              "dtype: float64"
            ]
          },
          "metadata": {
            "tags": []
          },
          "execution_count": 8
        }
      ]
    },
    {
      "cell_type": "markdown",
      "metadata": {
        "id": "2y2GL0EHSP0x"
      },
      "source": [
        "Cabin feature has 77% of it's values missing. We will most probably drop this feature. Age and Embarked however, can be dealt with either mean, mode or median method."
      ]
    },
    {
      "cell_type": "markdown",
      "metadata": {
        "id": "n567YvOyUIPi"
      },
      "source": [
        "# Exploratory Data Analysis"
      ]
    },
    {
      "cell_type": "markdown",
      "metadata": {
        "id": "O5psovCyUUb2"
      },
      "source": [
        "## Univariate Analysis"
      ]
    },
    {
      "cell_type": "markdown",
      "metadata": {
        "id": "fg9xEDp4UVb_"
      },
      "source": [
        "### Survived(Target Variable)"
      ]
    },
    {
      "cell_type": "code",
      "metadata": {
        "colab": {
          "base_uri": "https://localhost:8080/",
          "height": 497
        },
        "id": "CTdubVPCRseT",
        "outputId": "5aaf27bc-de87-4bf1-e8e2-44fc74722345"
      },
      "source": [
        "plt.figure(figsize=(8,8))\n",
        "total = float(len(df['Survived']))\n",
        "ax = sns.countplot('Survived', data=df)\n",
        "for p in ax.patches:\n",
        "  height = p.get_height()\n",
        "  ax.text(p.get_x() + p.get_width()/2.,\n",
        "          height + 3.,\n",
        "          '{:1.2f}'.format((height/total)*100),\n",
        "          ha='center') "
      ],
      "execution_count": null,
      "outputs": [
        {
          "output_type": "display_data",
          "data": {
            "image/png": "[encoded data removed]",
            "text/plain": [
              "<Figure size 576x576 with 1 Axes>"
            ]
          },
          "metadata": {
            "tags": [],
            "needs_background": "light"
          }
        }
      ]
    },
    {
      "cell_type": "markdown",
      "metadata": {
        "id": "8TLrIhYfVdQ1"
      },
      "source": [
        "\n",
        "*   Our dataset is slighlty imbalanced with **61.6%** of people dying and **38.4%** of people surviving.\n",
        "\n",
        "\n"
      ]
    },
    {
      "cell_type": "markdown",
      "metadata": {
        "id": "JLOdded3V3jD"
      },
      "source": [
        "### Pclass"
      ]
    },
    {
      "cell_type": "code",
      "metadata": {
        "colab": {
          "base_uri": "https://localhost:8080/",
          "height": 497
        },
        "id": "SGSyp8g9VAGp",
        "outputId": "a3eec1c1-b9f9-4548-c4aa-ccd6fe5a72af"
      },
      "source": [
        "plt.figure(figsize=(8,8))\n",
        "total = float(len(df['Survived']))\n",
        "ax = sns.countplot('Pclass', data=df)\n",
        "for p in ax.patches:\n",
        "  height = p.get_height()\n",
        "  ax.text(p.get_x() + p.get_width()/2.,\n",
        "          height + 3.,\n",
        "          '{:1.2f}'.format((height/total)*100),\n",
        "          ha='center') "
      ],
      "execution_count": null,
      "outputs": [
        {
          "output_type": "display_data",
          "data": {
            "image/png": "[encoded data removed]",
            "text/plain": [
              "<Figure size 576x576 with 1 Axes>"
            ]
          },
          "metadata": {
            "tags": [],
            "needs_background": "light"
          }
        }
      ]
    },
    {
      "cell_type": "markdown",
      "metadata": {
        "id": "WovQabP3ZIYV"
      },
      "source": [
        "\n",
        "\n",
        "*   3rd Class tickets are the highest in this dataset with 55.11%. This intuitivle makes sense since this dataset has more people not surviving.\n",
        "\n"
      ]
    },
    {
      "cell_type": "markdown",
      "metadata": {
        "id": "A6lKQ68QacFY"
      },
      "source": [
        "### Sex"
      ]
    },
    {
      "cell_type": "code",
      "metadata": {
        "colab": {
          "base_uri": "https://localhost:8080/",
          "height": 497
        },
        "id": "3YV7ScjqWBy6",
        "outputId": "0471e2fe-794d-4ef7-d893-8aa1fba817c5"
      },
      "source": [
        "plt.figure(figsize=(8,8))\n",
        "total = float(len(df['Survived']))\n",
        "ax = sns.countplot('Sex', data=df)\n",
        "for p in ax.patches:\n",
        "  height = p.get_height()\n",
        "  ax.text(p.get_x() + p.get_width()/2.,\n",
        "          height + 3.,\n",
        "          '{:1.2f}'.format((height/total)*100),\n",
        "          ha='center') "
      ],
      "execution_count": null,
      "outputs": [
        {
          "output_type": "display_data",
          "data": {
            "image/png": "[encoded data removed]",
            "text/plain": [
              "<Figure size 576x576 with 1 Axes>"
            ]
          },
          "metadata": {
            "tags": [],
            "needs_background": "light"
          }
        }
      ]
    },
    {
      "cell_type": "markdown",
      "metadata": {
        "id": "IAdMJKn2alUc"
      },
      "source": [
        "\n",
        "\n",
        "*   The dataset is biased towards men with 64.8% men and 35.2% women.\n",
        "*   Again, this makes sense as this dataset contains majority of the people not surviving.\n",
        "*   We know priority was given to save the women and children during the accident.\n",
        "\n",
        "\n",
        "\n",
        "\n"
      ]
    },
    {
      "cell_type": "markdown",
      "metadata": {
        "id": "46pEJdB9bFRB"
      },
      "source": [
        "### Age"
      ]
    },
    {
      "cell_type": "code",
      "metadata": {
        "colab": {
          "base_uri": "https://localhost:8080/",
          "height": 500
        },
        "id": "0t7dwG_waf1T",
        "outputId": "cf49f96b-9afb-4a08-a539-a20992dbc9ba"
      },
      "source": [
        "df['Age'].hist(figsize=(8,8), grid=False)"
      ],
      "execution_count": null,
      "outputs": [
        {
          "output_type": "execute_result",
          "data": {
            "text/plain": [
              "<matplotlib.axes._subplots.AxesSubplot at 0x7f9a47d25910>"
            ]
          },
          "metadata": {
            "tags": []
          },
          "execution_count": 12
        },
        {
          "output_type": "display_data",
          "data": {
            "image/png": "[encoded data removed]",
            "text/plain": [
              "<Figure size 576x576 with 1 Axes>"
            ]
          },
          "metadata": {
            "tags": [],
            "needs_background": "light"
          }
        }
      ]
    },
    {
      "cell_type": "markdown",
      "metadata": {
        "id": "cuJhViTAbsj1"
      },
      "source": [
        "\n",
        "\n",
        "*   We can see that majority of the dataset contains people below 38(75%).\n",
        "*   Younger people would have had a higher chance of not surviving as preference would have been given to older people.\n",
        "*   A very small amount of the dataset is of people above 70 years.\n",
        "\n",
        "\n",
        "\n",
        "\n"
      ]
    },
    {
      "cell_type": "markdown",
      "metadata": {
        "id": "fp_oCSfucev2"
      },
      "source": [
        "### SibSp"
      ]
    },
    {
      "cell_type": "code",
      "metadata": {
        "colab": {
          "base_uri": "https://localhost:8080/",
          "height": 497
        },
        "id": "glInq7embJfv",
        "outputId": "171f0b06-4816-4a05-a295-685394b1872f"
      },
      "source": [
        "plt.figure(figsize=(8,8))\n",
        "total = float(len(df['Survived']))\n",
        "ax = sns.countplot('SibSp', data=df)\n",
        "for p in ax.patches:\n",
        "  height = p.get_height()\n",
        "  ax.text(p.get_x() + p.get_width()/2.,\n",
        "          height + 3.,\n",
        "          '{:1.2f}'.format((height/total)*100),\n",
        "          ha='center') "
      ],
      "execution_count": null,
      "outputs": [
        {
          "output_type": "display_data",
          "data": {
            "image/png": "[encoded data removed]",
            "text/plain": [
              "<Figure size 576x576 with 1 Axes>"
            ]
          },
          "metadata": {
            "tags": [],
            "needs_background": "light"
          }
        }
      ]
    },
    {
      "cell_type": "markdown",
      "metadata": {
        "id": "4QA7Xdh2e332"
      },
      "source": [
        "\n",
        "\n",
        "*   About 91% of the dataset had either no siblings or just one sibling.\n",
        "\n"
      ]
    },
    {
      "cell_type": "markdown",
      "metadata": {
        "id": "Y47eMYE1fYAE"
      },
      "source": [
        "### Parch"
      ]
    },
    {
      "cell_type": "code",
      "metadata": {
        "colab": {
          "base_uri": "https://localhost:8080/",
          "height": 497
        },
        "id": "Qczchncjcika",
        "outputId": "58a3756b-69fe-414b-80cc-f1dfc3ff27d8"
      },
      "source": [
        "plt.figure(figsize=(8,8))\n",
        "total = float(len(df['Survived']))\n",
        "ax = sns.countplot('Parch', data=df)\n",
        "for p in ax.patches:\n",
        "  height = p.get_height()\n",
        "  ax.text(p.get_x() + p.get_width()/2.,\n",
        "          height + 3.,\n",
        "          '{:1.2f}'.format((height/total)*100),\n",
        "          ha='center') "
      ],
      "execution_count": null,
      "outputs": [
        {
          "output_type": "display_data",
          "data": {
            "image/png": "[encoded data removed]",
            "text/plain": [
              "<Figure size 576x576 with 1 Axes>"
            ]
          },
          "metadata": {
            "tags": [],
            "needs_background": "light"
          }
        }
      ]
    },
    {
      "cell_type": "markdown",
      "metadata": {
        "id": "sfvYdP8Pk7XJ"
      },
      "source": [
        "\n",
        "\n",
        "*   About 76% of the people had no parents onboard Titanic.\n",
        "*   About 22% of the people had one or two parents aboard the Titanic.\n",
        "\n"
      ]
    },
    {
      "cell_type": "markdown",
      "metadata": {
        "id": "Q1MYB3p8lP9T"
      },
      "source": [
        "Maybe we can combine SbSp and Parch features to get one single feature."
      ]
    },
    {
      "cell_type": "markdown",
      "metadata": {
        "id": "0m3r8mRWlVmP"
      },
      "source": [
        "### Fare"
      ]
    },
    {
      "cell_type": "code",
      "metadata": {
        "colab": {
          "base_uri": "https://localhost:8080/",
          "height": 500
        },
        "id": "4PB_Gjjcfac4",
        "outputId": "5404000b-e127-49ff-9437-21fff9184d1d"
      },
      "source": [
        "df['Fare'].hist(figsize=(8,8), grid=False)"
      ],
      "execution_count": null,
      "outputs": [
        {
          "output_type": "execute_result",
          "data": {
            "text/plain": [
              "<matplotlib.axes._subplots.AxesSubplot at 0x7f9a47cc1bd0>"
            ]
          },
          "metadata": {
            "tags": []
          },
          "execution_count": 15
        },
        {
          "output_type": "display_data",
          "data": {
            "image/png": "[encoded data removed]",
            "text/plain": [
              "<Figure size 576x576 with 1 Axes>"
            ]
          },
          "metadata": {
            "tags": [],
            "needs_background": "light"
          }
        }
      ]
    },
    {
      "cell_type": "markdown",
      "metadata": {
        "id": "AxZo4V4Tlisd"
      },
      "source": [
        "\n",
        "\n",
        "*   This feature doesn't seem as useful as we already have Pclass. They are very similar features and will probably be highly correlated.\n",
        "*   75% of the people has a fare of 31 or below.\n",
        "\n"
      ]
    },
    {
      "cell_type": "markdown",
      "metadata": {
        "id": "aB2xajgpl6bk"
      },
      "source": [
        "### Embarked"
      ]
    },
    {
      "cell_type": "code",
      "metadata": {
        "colab": {
          "base_uri": "https://localhost:8080/",
          "height": 497
        },
        "id": "hstJsIVDlcfm",
        "outputId": "d7898e0d-6dd4-407b-db3d-1c270185e001"
      },
      "source": [
        "plt.figure(figsize=(8,8))\n",
        "total = float(len(df['Survived']))\n",
        "ax = sns.countplot('Embarked', data=df)\n",
        "for p in ax.patches:\n",
        "  height = p.get_height()\n",
        "  ax.text(p.get_x() + p.get_width()/2.,\n",
        "          height + 3.,\n",
        "          '{:1.2f}'.format((height/total)*100),\n",
        "          ha='center') "
      ],
      "execution_count": null,
      "outputs": [
        {
          "output_type": "display_data",
          "data": {
            "image/png": "[encoded data removed]",
            "text/plain": [
              "<Figure size 576x576 with 1 Axes>"
            ]
          },
          "metadata": {
            "tags": [],
            "needs_background": "light"
          }
        }
      ]
    },
    {
      "cell_type": "markdown",
      "metadata": {
        "id": "YvDIee3pl__g"
      },
      "source": [
        "\n",
        "\n",
        "*   About 72% of people embarked the journey from Southampton. It would be interesting to figure out if this feature has an influence on Survival.\n",
        "\n"
      ]
    },
    {
      "cell_type": "markdown",
      "metadata": {
        "id": "hnFtFJLKmQ6K"
      },
      "source": [
        "## Bivariate Analysis"
      ]
    },
    {
      "cell_type": "markdown",
      "metadata": {
        "id": "nPlYTv-vmT1k"
      },
      "source": [
        "### Pclass and Survived"
      ]
    },
    {
      "cell_type": "code",
      "metadata": {
        "colab": {
          "base_uri": "https://localhost:8080/",
          "height": 497
        },
        "id": "JPdX6JeXl9gg",
        "outputId": "5ae0e9fd-e353-4af6-90a2-f4bd54adaead"
      },
      "source": [
        "plt.figure(figsize=(8,8))\n",
        "total = float(len(df['Survived']))\n",
        "ax = sns.countplot(x = 'Pclass', hue = 'Survived', data=df)\n",
        "for p in ax.patches:\n",
        "  height = p.get_height()\n",
        "  ax.text(p.get_x() + p.get_width()/2.,\n",
        "          height + 3.,\n",
        "          '{:1.2f}'.format((height/total)*100),\n",
        "          ha='center') "
      ],
      "execution_count": null,
      "outputs": [
        {
          "output_type": "display_data",
          "data": {
            "image/png": "[encoded data removed]",
            "text/plain": [
              "<Figure size 576x576 with 1 Axes>"
            ]
          },
          "metadata": {
            "tags": [],
            "needs_background": "light"
          }
        }
      ]
    },
    {
      "cell_type": "markdown",
      "metadata": {
        "id": "duj-P-eAmmTC"
      },
      "source": [
        "\n",
        "\n",
        "*   Richer people with 1st class tickets had a higher chance of survival than dying.\n",
        "*   2nd class people almost survived or not survived at the same rate.\n",
        "*   People with 3rd class tickets died disproportionately.\n",
        "*   This shows us the class imbalance in Titanic, which is smaller reflection of our society.\n",
        "\n",
        "\n",
        "\n"
      ]
    },
    {
      "cell_type": "markdown",
      "metadata": {
        "id": "gHza_ZBSnI8H"
      },
      "source": [
        "### Sex and Survived"
      ]
    },
    {
      "cell_type": "code",
      "metadata": {
        "colab": {
          "base_uri": "https://localhost:8080/",
          "height": 497
        },
        "id": "buY2cNI1me-m",
        "outputId": "8ae0d65a-fc9f-468c-eff7-0908d86712cc"
      },
      "source": [
        "plt.figure(figsize=(8,8))\n",
        "total = float(len(df['Survived']))\n",
        "ax = sns.countplot(x = 'Sex', hue = 'Survived', data=df)\n",
        "for p in ax.patches:\n",
        "  height = p.get_height()\n",
        "  ax.text(p.get_x() + p.get_width()/2.,\n",
        "          height + 3.,\n",
        "          '{:1.2f}'.format((height/total)*100),\n",
        "          ha='center') "
      ],
      "execution_count": null,
      "outputs": [
        {
          "output_type": "display_data",
          "data": {
            "image/png": "[encoded data removed]",
            "text/plain": [
              "<Figure size 576x576 with 1 Axes>"
            ]
          },
          "metadata": {
            "tags": [],
            "needs_background": "light"
          }
        }
      ]
    },
    {
      "cell_type": "markdown",
      "metadata": {
        "id": "6anEAIrKnO2S"
      },
      "source": [
        "\n",
        "\n",
        "*   There was a higher chance of dying if you were a man on the Titanic.\n",
        "*   Even though this dataset contains more men(65%), more women survived than men.\n",
        "*   Men were asked to sacrifice their lives for women and children.\n",
        "\n",
        "\n",
        "\n",
        "\n"
      ]
    },
    {
      "cell_type": "markdown",
      "metadata": {
        "id": "xt8oKLJGpQpY"
      },
      "source": [
        "### Age and Survived"
      ]
    },
    {
      "cell_type": "code",
      "metadata": {
        "id": "lUzRvHYnnMVP",
        "colab": {
          "base_uri": "https://localhost:8080/",
          "height": 514
        },
        "outputId": "19c5a1fc-30b0-4969-d83c-6612ec653c3b"
      },
      "source": [
        "plt.figure(figsize=(8,8))\n",
        "sns.boxplot(x = 'Survived', y = 'Age', data=df)"
      ],
      "execution_count": null,
      "outputs": [
        {
          "output_type": "execute_result",
          "data": {
            "text/plain": [
              "<matplotlib.axes._subplots.AxesSubplot at 0x7f9a47af4890>"
            ]
          },
          "metadata": {
            "tags": []
          },
          "execution_count": 19
        },
        {
          "output_type": "display_data",
          "data": {
            "image/png": "[encoded data removed]",
            "text/plain": [
              "<Figure size 576x576 with 1 Axes>"
            ]
          },
          "metadata": {
            "tags": [],
            "needs_background": "light"
          }
        }
      ]
    },
    {
      "cell_type": "markdown",
      "metadata": {
        "id": "N6BCGaqtqdQJ"
      },
      "source": [
        "\n",
        "\n",
        "*   The mean age of people not suriving is higher than people surviving.\n",
        "*   This indicates younger people/children had a higher chance of survival.\n",
        "*   We notice very low number of outliers for both 0 and 1.\n",
        "\n",
        "\n",
        "\n"
      ]
    },
    {
      "cell_type": "markdown",
      "metadata": {
        "id": "YjwCZfBNrXfk"
      },
      "source": [
        "### SibSp and Survived"
      ]
    },
    {
      "cell_type": "code",
      "metadata": {
        "colab": {
          "base_uri": "https://localhost:8080/",
          "height": 598
        },
        "id": "LC-PWUKap2xg",
        "outputId": "c48f78d6-6f54-4235-b854-e69841c5b5f0"
      },
      "source": [
        "plt.figure(figsize=(8,8))\n",
        "total = float(len(df['Survived']))\n",
        "ax = sns.countplot(x = 'SibSp', hue = 'Survived', data=df)\n",
        "for p in ax.patches:\n",
        "  height = p.get_height()\n",
        "  ax.text(p.get_x() + p.get_width()/2.,\n",
        "          height + 3.,\n",
        "          '{:1.2f}'.format((height/total)*100),\n",
        "          ha='center') "
      ],
      "execution_count": null,
      "outputs": [
        {
          "output_type": "stream",
          "text": [
            "posx and posy should be finite values\n",
            "posx and posy should be finite values\n",
            "posx and posy should be finite values\n",
            "posx and posy should be finite values\n",
            "posx and posy should be finite values\n",
            "posx and posy should be finite values\n"
          ],
          "name": "stderr"
        },
        {
          "output_type": "display_data",
          "data": {
            "image/png": "[encoded data removed]",
            "text/plain": [
              "<Figure size 576x576 with 1 Axes>"
            ]
          },
          "metadata": {
            "tags": [],
            "needs_background": "light"
          }
        }
      ]
    },
    {
      "cell_type": "markdown",
      "metadata": {
        "id": "g0_rFyyVsklD"
      },
      "source": [
        "\n",
        "\n",
        "*   People with one sibling and spouse had a higher chance of surviving than not surviving.\n",
        "*   If you had a lot of siblings, you had a significantly lower chance of surviving.\n",
        "\n"
      ]
    },
    {
      "cell_type": "markdown",
      "metadata": {
        "id": "fHeRSbIRs_Z2"
      },
      "source": [
        "### Parch and Survived"
      ]
    },
    {
      "cell_type": "code",
      "metadata": {
        "colab": {
          "base_uri": "https://localhost:8080/",
          "height": 598
        },
        "id": "kt20MUxerbjV",
        "outputId": "a13b6637-898b-4c86-d2b3-9658c9ab019e"
      },
      "source": [
        "plt.figure(figsize=(8,8))\n",
        "total = float(len(df['Survived']))\n",
        "ax = sns.countplot(x = 'Parch', hue = 'Survived', data=df)\n",
        "for p in ax.patches:\n",
        "  height = p.get_height()\n",
        "  ax.text(p.get_x() + p.get_width()/2.,\n",
        "          height + 3.,\n",
        "          '{:1.2f}'.format((height/total)*100),\n",
        "          ha='center') \n",
        "plt.legend(loc='upper center')"
      ],
      "execution_count": null,
      "outputs": [
        {
          "output_type": "execute_result",
          "data": {
            "text/plain": [
              "<matplotlib.legend.Legend at 0x7f9a4796abd0>"
            ]
          },
          "metadata": {
            "tags": []
          },
          "execution_count": 21
        },
        {
          "output_type": "stream",
          "text": [
            "posx and posy should be finite values\n",
            "posx and posy should be finite values\n",
            "posx and posy should be finite values\n",
            "posx and posy should be finite values\n",
            "posx and posy should be finite values\n",
            "posx and posy should be finite values\n"
          ],
          "name": "stderr"
        },
        {
          "output_type": "display_data",
          "data": {
            "image/png": "[encoded data removed]",
            "text/plain": [
              "<Figure size 576x576 with 1 Axes>"
            ]
          },
          "metadata": {
            "tags": [],
            "needs_background": "light"
          }
        }
      ]
    },
    {
      "cell_type": "markdown",
      "metadata": {
        "id": "6vw4dqbktvIN"
      },
      "source": [
        "### Fare and Survived"
      ]
    },
    {
      "cell_type": "code",
      "metadata": {
        "colab": {
          "base_uri": "https://localhost:8080/",
          "height": 514
        },
        "id": "q9PRIWhNtEY3",
        "outputId": "113320ff-7bb1-4bce-eb0f-dffa326458fb"
      },
      "source": [
        "plt.figure(figsize=(8,8))\n",
        "sns.boxplot(x = 'Survived', y = 'Fare', data=df)"
      ],
      "execution_count": null,
      "outputs": [
        {
          "output_type": "execute_result",
          "data": {
            "text/plain": [
              "<matplotlib.axes._subplots.AxesSubplot at 0x7f9a47951f90>"
            ]
          },
          "metadata": {
            "tags": []
          },
          "execution_count": 22
        },
        {
          "output_type": "display_data",
          "data": {
            "image/png": "[encoded data removed]",
            "text/plain": [
              "<Figure size 576x576 with 1 Axes>"
            ]
          },
          "metadata": {
            "tags": [],
            "needs_background": "light"
          }
        }
      ]
    },
    {
      "cell_type": "markdown",
      "metadata": {
        "id": "C9VKbb5gyHuR"
      },
      "source": [
        "\n",
        "\n",
        "*   As expected, the mean Fare of people surviving is higher than the mean of people who didn't survive.\n",
        "*   There are a lot of outliers for both the cases.\n",
        "\n"
      ]
    },
    {
      "cell_type": "markdown",
      "metadata": {
        "id": "wDO5YlWkyaIv"
      },
      "source": [
        "### Embarked and Survived"
      ]
    },
    {
      "cell_type": "code",
      "metadata": {
        "colab": {
          "base_uri": "https://localhost:8080/",
          "height": 514
        },
        "id": "Xg3MzzLutzNF",
        "outputId": "d9734313-c4fd-4bdc-fee7-c74575596332"
      },
      "source": [
        "plt.figure(figsize=(8,8))\n",
        "total = float(len(df['Survived']))\n",
        "ax = sns.countplot(x = 'Embarked', hue = 'Survived', data=df)\n",
        "for p in ax.patches:\n",
        "  height = p.get_height()\n",
        "  ax.text(p.get_x() + p.get_width()/2.,\n",
        "          height + 3.,\n",
        "          '{:1.2f}'.format((height/total)*100),\n",
        "          ha='center') \n",
        "plt.legend(loc='upper center')"
      ],
      "execution_count": null,
      "outputs": [
        {
          "output_type": "execute_result",
          "data": {
            "text/plain": [
              "<matplotlib.legend.Legend at 0x7f9a47bbaad0>"
            ]
          },
          "metadata": {
            "tags": []
          },
          "execution_count": 23
        },
        {
          "output_type": "display_data",
          "data": {
            "image/png": "[encoded data removed]",
            "text/plain": [
              "<Figure size 576x576 with 1 Axes>"
            ]
          },
          "metadata": {
            "tags": [],
            "needs_background": "light"
          }
        }
      ]
    },
    {
      "cell_type": "markdown",
      "metadata": {
        "id": "o31IEtIaykIa"
      },
      "source": [
        "\n",
        "\n",
        "*   People embarking from Cherbourg had a higher chance of surviving than not surviving.\n",
        "\n"
      ]
    },
    {
      "cell_type": "markdown",
      "metadata": {
        "id": "0UeHWoUuy02u"
      },
      "source": [
        "## Correlation Matrix"
      ]
    },
    {
      "cell_type": "code",
      "metadata": {
        "colab": {
          "base_uri": "https://localhost:8080/",
          "height": 558
        },
        "id": "nAycMsTRyfiG",
        "outputId": "54aa8e5f-e2b5-42ec-ef7e-902544cec001"
      },
      "source": [
        "plt.figure(figsize=(12,9))\n",
        "sns.heatmap(df.corr(), annot=True, cmap='Blues')"
      ],
      "execution_count": null,
      "outputs": [
        {
          "output_type": "execute_result",
          "data": {
            "text/plain": [
              "<matplotlib.axes._subplots.AxesSubplot at 0x7f9a47c30090>"
            ]
          },
          "metadata": {
            "tags": []
          },
          "execution_count": 24
        },
        {
          "output_type": "display_data",
          "data": {
            "image/png": "[encoded data removed]",
            "text/plain": [
              "<Figure size 864x648 with 2 Axes>"
            ]
          },
          "metadata": {
            "tags": [],
            "needs_background": "light"
          }
        }
      ]
    },
    {
      "cell_type": "markdown",
      "metadata": {
        "id": "pxc2GAhVzMoF"
      },
      "source": [
        "\n",
        "\n",
        "*   Fare and Pclass have a strong positive correlation with our target variable.\n",
        "*   As expected, Pclass and Fare a strong negative correlation.\n",
        "*   SibSp and Parch have a strong positive correlation.\n",
        "*   SibSp and Age have a good negative correlation.\n",
        "\n",
        "\n",
        "\n"
      ]
    },
    {
      "cell_type": "markdown",
      "metadata": {
        "id": "diVD6ko40it5"
      },
      "source": [
        "# Data Cleaning"
      ]
    },
    {
      "cell_type": "code",
      "metadata": {
        "id": "mrNL5pnL1BDE"
      },
      "source": [
        "data = df.copy()"
      ],
      "execution_count": 154,
      "outputs": []
    },
    {
      "cell_type": "code",
      "metadata": {
        "colab": {
          "base_uri": "https://localhost:8080/",
          "height": 237
        },
        "id": "N8W3Vnyjy9jr",
        "outputId": "a5c585ae-ccf2-4c26-cb8f-14e9e0ea57c3"
      },
      "source": [
        "data.head()"
      ],
      "execution_count": 155,
      "outputs": [
        {
          "output_type": "execute_result",
          "data": {
            "text/html": [
              "<div>\n",
              "<style scoped>\n",
              "    .dataframe tbody tr th:only-of-type {\n",
              "        vertical-align: middle;\n",
              "    }\n",
              "\n",
              "    .dataframe tbody tr th {\n",
              "        vertical-align: top;\n",
              "    }\n",
              "\n",
              "    .dataframe thead th {\n",
              "        text-align: right;\n",
              "    }\n",
              "</style>\n",
              "<table border=\"1\" class=\"dataframe\">\n",
              "  <thead>\n",
              "    <tr style=\"text-align: right;\">\n",
              "      <th></th>\n",
              "      <th>PassengerId</th>\n",
              "      <th>Survived</th>\n",
              "      <th>Pclass</th>\n",
              "      <th>Name</th>\n",
              "      <th>Sex</th>\n",
              "      <th>Age</th>\n",
              "      <th>SibSp</th>\n",
              "      <th>Parch</th>\n",
              "      <th>Ticket</th>\n",
              "      <th>Fare</th>\n",
              "      <th>Cabin</th>\n",
              "      <th>Embarked</th>\n",
              "    </tr>\n",
              "  </thead>\n",
              "  <tbody>\n",
              "    <tr>\n",
              "      <th>0</th>\n",
              "      <td>1</td>\n",
              "      <td>0</td>\n",
              "      <td>3</td>\n",
              "      <td>Braund, Mr. Owen Harris</td>\n",
              "      <td>male</td>\n",
              "      <td>22.0</td>\n",
              "      <td>1</td>\n",
              "      <td>0</td>\n",
              "      <td>A/5 21171</td>\n",
              "      <td>7.2500</td>\n",
              "      <td>NaN</td>\n",
              "      <td>S</td>\n",
              "    </tr>\n",
              "    <tr>\n",
              "      <th>1</th>\n",
              "      <td>2</td>\n",
              "      <td>1</td>\n",
              "      <td>1</td>\n",
              "      <td>Cumings, Mrs. John Bradley (Florence Briggs Th...</td>\n",
              "      <td>female</td>\n",
              "      <td>38.0</td>\n",
              "      <td>1</td>\n",
              "      <td>0</td>\n",
              "      <td>PC 17599</td>\n",
              "      <td>71.2833</td>\n",
              "      <td>C85</td>\n",
              "      <td>C</td>\n",
              "    </tr>\n",
              "    <tr>\n",
              "      <th>2</th>\n",
              "      <td>3</td>\n",
              "      <td>1</td>\n",
              "      <td>3</td>\n",
              "      <td>Heikkinen, Miss. Laina</td>\n",
              "      <td>female</td>\n",
              "      <td>26.0</td>\n",
              "      <td>0</td>\n",
              "      <td>0</td>\n",
              "      <td>STON/O2. 3101282</td>\n",
              "      <td>7.9250</td>\n",
              "      <td>NaN</td>\n",
              "      <td>S</td>\n",
              "    </tr>\n",
              "    <tr>\n",
              "      <th>3</th>\n",
              "      <td>4</td>\n",
              "      <td>1</td>\n",
              "      <td>1</td>\n",
              "      <td>Futrelle, Mrs. Jacques Heath (Lily May Peel)</td>\n",
              "      <td>female</td>\n",
              "      <td>35.0</td>\n",
              "      <td>1</td>\n",
              "      <td>0</td>\n",
              "      <td>113803</td>\n",
              "      <td>53.1000</td>\n",
              "      <td>C123</td>\n",
              "      <td>S</td>\n",
              "    </tr>\n",
              "    <tr>\n",
              "      <th>4</th>\n",
              "      <td>5</td>\n",
              "      <td>0</td>\n",
              "      <td>3</td>\n",
              "      <td>Allen, Mr. William Henry</td>\n",
              "      <td>male</td>\n",
              "      <td>35.0</td>\n",
              "      <td>0</td>\n",
              "      <td>0</td>\n",
              "      <td>373450</td>\n",
              "      <td>8.0500</td>\n",
              "      <td>NaN</td>\n",
              "      <td>S</td>\n",
              "    </tr>\n",
              "  </tbody>\n",
              "</table>\n",
              "</div>"
            ],
            "text/plain": [
              "   PassengerId  Survived  Pclass  ...     Fare Cabin  Embarked\n",
              "0            1         0       3  ...   7.2500   NaN         S\n",
              "1            2         1       1  ...  71.2833   C85         C\n",
              "2            3         1       3  ...   7.9250   NaN         S\n",
              "3            4         1       1  ...  53.1000  C123         S\n",
              "4            5         0       3  ...   8.0500   NaN         S\n",
              "\n",
              "[5 rows x 12 columns]"
            ]
          },
          "metadata": {
            "tags": []
          },
          "execution_count": 155
        }
      ]
    },
    {
      "cell_type": "markdown",
      "metadata": {
        "id": "Wk-Sxp5q03Wj"
      },
      "source": [
        "## Handling missing values."
      ]
    },
    {
      "cell_type": "markdown",
      "metadata": {
        "id": "dlg3knRQ058y"
      },
      "source": [
        "Dropping Cabin as it has 77% missing values. Dropping PassengerId and ticket as well."
      ]
    },
    {
      "cell_type": "code",
      "metadata": {
        "id": "9LY5M44E0lv6"
      },
      "source": [
        "data.drop(['Cabin', 'PassengerId', 'Ticket'], axis=1, inplace=True)"
      ],
      "execution_count": 156,
      "outputs": []
    },
    {
      "cell_type": "markdown",
      "metadata": {
        "id": "_08Gw6kd1WCe"
      },
      "source": [
        "We will fill the null values in Age by the mean of the feature."
      ]
    },
    {
      "cell_type": "code",
      "metadata": {
        "id": "oqYvSpqa1UPF"
      },
      "source": [
        "data['Age'].fillna(data['Age'].mean(), inplace=True)"
      ],
      "execution_count": 157,
      "outputs": []
    },
    {
      "cell_type": "code",
      "metadata": {
        "id": "wtUStrm29Dkc"
      },
      "source": [
        "data['Age'] = data['Age'].astype(int)"
      ],
      "execution_count": 158,
      "outputs": []
    },
    {
      "cell_type": "code",
      "metadata": {
        "id": "qr_v2Xc89L86"
      },
      "source": [
        "data['Fare'] = data['Fare'].astype(int)"
      ],
      "execution_count": 159,
      "outputs": []
    },
    {
      "cell_type": "markdown",
      "metadata": {
        "id": "YRVxDzDj2RDa"
      },
      "source": [
        "We only have 2 missing values in Embarked. We will fill it using the Mode of the feature."
      ]
    },
    {
      "cell_type": "code",
      "metadata": {
        "id": "j5P7tl-z1yyd"
      },
      "source": [
        "data['Embarked'].fillna(data['Embarked'].mode()[0], inplace=True)"
      ],
      "execution_count": 160,
      "outputs": []
    },
    {
      "cell_type": "code",
      "metadata": {
        "colab": {
          "base_uri": "https://localhost:8080/"
        },
        "id": "nigCklOt19Um",
        "outputId": "3612b024-ea97-4b7e-8c96-6d79884dc9e2"
      },
      "source": [
        "data.isnull().sum()"
      ],
      "execution_count": 161,
      "outputs": [
        {
          "output_type": "execute_result",
          "data": {
            "text/plain": [
              "Survived    0\n",
              "Pclass      0\n",
              "Name        0\n",
              "Sex         0\n",
              "Age         0\n",
              "SibSp       0\n",
              "Parch       0\n",
              "Fare        0\n",
              "Embarked    0\n",
              "dtype: int64"
            ]
          },
          "metadata": {
            "tags": []
          },
          "execution_count": 161
        }
      ]
    },
    {
      "cell_type": "markdown",
      "metadata": {
        "id": "fNP1ZXhr2gH5"
      },
      "source": [
        "Missing values have been handled."
      ]
    },
    {
      "cell_type": "markdown",
      "metadata": {
        "id": "Nptg5Q705DaX"
      },
      "source": [
        "## Handling Categorical Data"
      ]
    },
    {
      "cell_type": "markdown",
      "metadata": {
        "id": "G_FBQLi1WHRB"
      },
      "source": [
        "### Sex"
      ]
    },
    {
      "cell_type": "code",
      "metadata": {
        "id": "GO_ZrRSx2e43"
      },
      "source": [
        "sex_map = {'female' : 0, 'male' : 1}"
      ],
      "execution_count": 162,
      "outputs": []
    },
    {
      "cell_type": "code",
      "metadata": {
        "id": "uO_qu0WI5eRs"
      },
      "source": [
        "data['Sex'] = data['Sex'].map(sex_map)"
      ],
      "execution_count": 163,
      "outputs": []
    },
    {
      "cell_type": "markdown",
      "metadata": {
        "id": "RpBeFCPWWIiJ"
      },
      "source": [
        "### Embarked"
      ]
    },
    {
      "cell_type": "code",
      "metadata": {
        "colab": {
          "base_uri": "https://localhost:8080/"
        },
        "id": "yynra_3p5jpX",
        "outputId": "1e3a063f-1466-48ad-d9a8-245245e591f1"
      },
      "source": [
        "data['Embarked'].unique()"
      ],
      "execution_count": 164,
      "outputs": [
        {
          "output_type": "execute_result",
          "data": {
            "text/plain": [
              "array(['S', 'C', 'Q'], dtype=object)"
            ]
          },
          "metadata": {
            "tags": []
          },
          "execution_count": 164
        }
      ]
    },
    {
      "cell_type": "code",
      "metadata": {
        "id": "G45OHdih5k4M"
      },
      "source": [
        "embarked_map = {'S' : 0, 'C' : 1, 'Q' : 2}"
      ],
      "execution_count": 165,
      "outputs": []
    },
    {
      "cell_type": "code",
      "metadata": {
        "id": "pA19maZT5u0r"
      },
      "source": [
        "data['Embarked'] = data['Embarked'].map(embarked_map)"
      ],
      "execution_count": 166,
      "outputs": []
    },
    {
      "cell_type": "markdown",
      "metadata": {
        "id": "qacL7prHIfV5"
      },
      "source": [
        "### We will now convert Age into Age ranges."
      ]
    },
    {
      "cell_type": "code",
      "metadata": {
        "id": "KXNPdKevIn0r"
      },
      "source": [
        "data['Age'] = data['Age'].astype(int)\n",
        "data.loc[data['Age'] <= 11, 'Age'] = 0\n",
        "data.loc[(data['Age'] > 11) & (data['Age'] <= 18), 'Age'] = 1\n",
        "data.loc[(data['Age'] > 18) & (data['Age'] <= 22), 'Age'] = 2\n",
        "data.loc[(data['Age'] > 22) & (data['Age'] <= 27), 'Age'] = 3\n",
        "data.loc[(data['Age'] > 27) & (data['Age'] <= 33), 'Age'] = 4\n",
        "data.loc[(data['Age'] > 33) & (data['Age'] <= 40), 'Age'] = 5\n",
        "data.loc[(data['Age'] > 40) & (data['Age'] <= 66), 'Age'] = 6\n",
        "data.loc[data['Age'] > 66, 'Age'] = 6"
      ],
      "execution_count": 167,
      "outputs": []
    },
    {
      "cell_type": "code",
      "metadata": {
        "colab": {
          "base_uri": "https://localhost:8080/",
          "height": 203
        },
        "id": "9nU6RJVc5zGk",
        "outputId": "74fd3d7c-d2b4-4083-b201-a388602614e6"
      },
      "source": [
        "data.head()"
      ],
      "execution_count": 168,
      "outputs": [
        {
          "output_type": "execute_result",
          "data": {
            "text/html": [
              "<div>\n",
              "<style scoped>\n",
              "    .dataframe tbody tr th:only-of-type {\n",
              "        vertical-align: middle;\n",
              "    }\n",
              "\n",
              "    .dataframe tbody tr th {\n",
              "        vertical-align: top;\n",
              "    }\n",
              "\n",
              "    .dataframe thead th {\n",
              "        text-align: right;\n",
              "    }\n",
              "</style>\n",
              "<table border=\"1\" class=\"dataframe\">\n",
              "  <thead>\n",
              "    <tr style=\"text-align: right;\">\n",
              "      <th></th>\n",
              "      <th>Survived</th>\n",
              "      <th>Pclass</th>\n",
              "      <th>Name</th>\n",
              "      <th>Sex</th>\n",
              "      <th>Age</th>\n",
              "      <th>SibSp</th>\n",
              "      <th>Parch</th>\n",
              "      <th>Fare</th>\n",
              "      <th>Embarked</th>\n",
              "    </tr>\n",
              "  </thead>\n",
              "  <tbody>\n",
              "    <tr>\n",
              "      <th>0</th>\n",
              "      <td>0</td>\n",
              "      <td>3</td>\n",
              "      <td>Braund, Mr. Owen Harris</td>\n",
              "      <td>1</td>\n",
              "      <td>2</td>\n",
              "      <td>1</td>\n",
              "      <td>0</td>\n",
              "      <td>7</td>\n",
              "      <td>0</td>\n",
              "    </tr>\n",
              "    <tr>\n",
              "      <th>1</th>\n",
              "      <td>1</td>\n",
              "      <td>1</td>\n",
              "      <td>Cumings, Mrs. John Bradley (Florence Briggs Th...</td>\n",
              "      <td>0</td>\n",
              "      <td>5</td>\n",
              "      <td>1</td>\n",
              "      <td>0</td>\n",
              "      <td>71</td>\n",
              "      <td>1</td>\n",
              "    </tr>\n",
              "    <tr>\n",
              "      <th>2</th>\n",
              "      <td>1</td>\n",
              "      <td>3</td>\n",
              "      <td>Heikkinen, Miss. Laina</td>\n",
              "      <td>0</td>\n",
              "      <td>3</td>\n",
              "      <td>0</td>\n",
              "      <td>0</td>\n",
              "      <td>7</td>\n",
              "      <td>0</td>\n",
              "    </tr>\n",
              "    <tr>\n",
              "      <th>3</th>\n",
              "      <td>1</td>\n",
              "      <td>1</td>\n",
              "      <td>Futrelle, Mrs. Jacques Heath (Lily May Peel)</td>\n",
              "      <td>0</td>\n",
              "      <td>5</td>\n",
              "      <td>1</td>\n",
              "      <td>0</td>\n",
              "      <td>53</td>\n",
              "      <td>0</td>\n",
              "    </tr>\n",
              "    <tr>\n",
              "      <th>4</th>\n",
              "      <td>0</td>\n",
              "      <td>3</td>\n",
              "      <td>Allen, Mr. William Henry</td>\n",
              "      <td>1</td>\n",
              "      <td>5</td>\n",
              "      <td>0</td>\n",
              "      <td>0</td>\n",
              "      <td>8</td>\n",
              "      <td>0</td>\n",
              "    </tr>\n",
              "  </tbody>\n",
              "</table>\n",
              "</div>"
            ],
            "text/plain": [
              "   Survived  Pclass  ... Fare  Embarked\n",
              "0         0       3  ...    7         0\n",
              "1         1       1  ...   71         1\n",
              "2         1       3  ...    7         0\n",
              "3         1       1  ...   53         0\n",
              "4         0       3  ...    8         0\n",
              "\n",
              "[5 rows x 9 columns]"
            ]
          },
          "metadata": {
            "tags": []
          },
          "execution_count": 168
        }
      ]
    },
    {
      "cell_type": "markdown",
      "metadata": {
        "id": "uwjzsC9C6HHI"
      },
      "source": [
        "Notice we havent removed 'Name' yet. This is because I felt we could extract a feature from it. Notice that every name has a title: Mr, Mrs, Miss, etc. \n",
        "\n",
        "We will use regex to extract that into a new feature and drop the Name feature."
      ]
    },
    {
      "cell_type": "markdown",
      "metadata": {
        "id": "lwloQ1GZ1m8g"
      },
      "source": [
        "## Feature Engineering"
      ]
    },
    {
      "cell_type": "code",
      "metadata": {
        "id": "L4_TjDgF9dEH"
      },
      "source": [
        "def extract_title(name):\n",
        "  name = re.search('\\w+[.]', name).group(0)\n",
        "  name = re.sub('[.]', '', name)\n",
        "  return name"
      ],
      "execution_count": 169,
      "outputs": []
    },
    {
      "cell_type": "code",
      "metadata": {
        "id": "MQdEWMP797-T"
      },
      "source": [
        "data['Title'] = data['Name'].apply(lambda x : extract_title(x))"
      ],
      "execution_count": 170,
      "outputs": []
    },
    {
      "cell_type": "code",
      "metadata": {
        "colab": {
          "base_uri": "https://localhost:8080/"
        },
        "id": "wOKVqGpJ-H1g",
        "outputId": "a202f8ce-b7c9-47c3-b00f-248e5789578d"
      },
      "source": [
        "data['Title'].value_counts()"
      ],
      "execution_count": 171,
      "outputs": [
        {
          "output_type": "execute_result",
          "data": {
            "text/plain": [
              "Mr          517\n",
              "Miss        182\n",
              "Mrs         125\n",
              "Master       40\n",
              "Dr            7\n",
              "Rev           6\n",
              "Major         2\n",
              "Mlle          2\n",
              "Col           2\n",
              "Sir           1\n",
              "Don           1\n",
              "Ms            1\n",
              "Countess      1\n",
              "Jonkheer      1\n",
              "Capt          1\n",
              "Lady          1\n",
              "Mme           1\n",
              "Name: Title, dtype: int64"
            ]
          },
          "metadata": {
            "tags": []
          },
          "execution_count": 171
        }
      ]
    },
    {
      "cell_type": "code",
      "metadata": {
        "id": "d2hS_95P-x8q"
      },
      "source": [
        "data['Title'] = data['Title'].replace(['Lady', 'Countess', 'Cap', 'Col', 'Don', 'Dr'\\\n",
        "                                                 'Major', 'Rev', 'Sir', 'Jonkheer', 'Dona'], 'Rare')"
      ],
      "execution_count": 172,
      "outputs": []
    },
    {
      "cell_type": "code",
      "metadata": {
        "id": "GNOqPG6-WfNv"
      },
      "source": [
        "data['Title'] = data['Title'].replace('Mlle', 'Miss')\n",
        "data['Title'] = data['Title'].replace('Ms', 'Miss')\n",
        "data['Title'] = data['Title'].replace('Mme', 'Mrs')"
      ],
      "execution_count": 173,
      "outputs": []
    },
    {
      "cell_type": "code",
      "metadata": {
        "id": "wd4ACMJQWrX3"
      },
      "source": [
        "titles = {'Mr': 1, 'Miss': 2, 'Mrs': 3, 'Master': 4, 'Rare': 5}"
      ],
      "execution_count": 174,
      "outputs": []
    },
    {
      "cell_type": "code",
      "metadata": {
        "id": "JWqsxRLBWfQi"
      },
      "source": [
        "data['Title'] = data['Title'].map(titles)"
      ],
      "execution_count": 175,
      "outputs": []
    },
    {
      "cell_type": "code",
      "metadata": {
        "id": "am18L0_NWzp4"
      },
      "source": [
        "data['Title'] = data['Title'].fillna(0)\n",
        "data['Title'] = data['Title'].astype(int)"
      ],
      "execution_count": 176,
      "outputs": []
    },
    {
      "cell_type": "markdown",
      "metadata": {
        "id": "JSh-b3bFBdPe"
      },
      "source": [
        "Let us drop the Name column"
      ]
    },
    {
      "cell_type": "code",
      "metadata": {
        "id": "Q0r0E9Q7BISE"
      },
      "source": [
        "data.drop(['Name'], axis=1, inplace=True)"
      ],
      "execution_count": 177,
      "outputs": []
    },
    {
      "cell_type": "markdown",
      "metadata": {
        "id": "x2pboO8C3e_s"
      },
      "source": [
        "Let's extract a few new features from SibSp and Parch."
      ]
    },
    {
      "cell_type": "code",
      "metadata": {
        "id": "jGuRD6rQ1swu"
      },
      "source": [
        "data['Relatives'] = data['SibSp'] + data['Parch']"
      ],
      "execution_count": 178,
      "outputs": []
    },
    {
      "cell_type": "code",
      "metadata": {
        "id": "gDqnRAJ-3eJ2"
      },
      "source": [
        "data.loc[data['Relatives'] > 0, 'not_alone'] = 0\n",
        "data.loc[data['Relatives'] == 0, 'not_alone'] = 1\n",
        "data['not_alone'] = data['not_alone'].astype(int)"
      ],
      "execution_count": 179,
      "outputs": []
    },
    {
      "cell_type": "code",
      "metadata": {
        "colab": {
          "base_uri": "https://localhost:8080/",
          "height": 203
        },
        "id": "qhqRemAzBukz",
        "outputId": "dd005030-bfe0-48d1-bbd4-5cd40136e7b2"
      },
      "source": [
        "data.head()"
      ],
      "execution_count": 180,
      "outputs": [
        {
          "output_type": "execute_result",
          "data": {
            "text/html": [
              "<div>\n",
              "<style scoped>\n",
              "    .dataframe tbody tr th:only-of-type {\n",
              "        vertical-align: middle;\n",
              "    }\n",
              "\n",
              "    .dataframe tbody tr th {\n",
              "        vertical-align: top;\n",
              "    }\n",
              "\n",
              "    .dataframe thead th {\n",
              "        text-align: right;\n",
              "    }\n",
              "</style>\n",
              "<table border=\"1\" class=\"dataframe\">\n",
              "  <thead>\n",
              "    <tr style=\"text-align: right;\">\n",
              "      <th></th>\n",
              "      <th>Survived</th>\n",
              "      <th>Pclass</th>\n",
              "      <th>Sex</th>\n",
              "      <th>Age</th>\n",
              "      <th>SibSp</th>\n",
              "      <th>Parch</th>\n",
              "      <th>Fare</th>\n",
              "      <th>Embarked</th>\n",
              "      <th>Title</th>\n",
              "      <th>Relatives</th>\n",
              "      <th>not_alone</th>\n",
              "    </tr>\n",
              "  </thead>\n",
              "  <tbody>\n",
              "    <tr>\n",
              "      <th>0</th>\n",
              "      <td>0</td>\n",
              "      <td>3</td>\n",
              "      <td>1</td>\n",
              "      <td>2</td>\n",
              "      <td>1</td>\n",
              "      <td>0</td>\n",
              "      <td>7</td>\n",
              "      <td>0</td>\n",
              "      <td>1</td>\n",
              "      <td>1</td>\n",
              "      <td>0</td>\n",
              "    </tr>\n",
              "    <tr>\n",
              "      <th>1</th>\n",
              "      <td>1</td>\n",
              "      <td>1</td>\n",
              "      <td>0</td>\n",
              "      <td>5</td>\n",
              "      <td>1</td>\n",
              "      <td>0</td>\n",
              "      <td>71</td>\n",
              "      <td>1</td>\n",
              "      <td>3</td>\n",
              "      <td>1</td>\n",
              "      <td>0</td>\n",
              "    </tr>\n",
              "    <tr>\n",
              "      <th>2</th>\n",
              "      <td>1</td>\n",
              "      <td>3</td>\n",
              "      <td>0</td>\n",
              "      <td>3</td>\n",
              "      <td>0</td>\n",
              "      <td>0</td>\n",
              "      <td>7</td>\n",
              "      <td>0</td>\n",
              "      <td>2</td>\n",
              "      <td>0</td>\n",
              "      <td>1</td>\n",
              "    </tr>\n",
              "    <tr>\n",
              "      <th>3</th>\n",
              "      <td>1</td>\n",
              "      <td>1</td>\n",
              "      <td>0</td>\n",
              "      <td>5</td>\n",
              "      <td>1</td>\n",
              "      <td>0</td>\n",
              "      <td>53</td>\n",
              "      <td>0</td>\n",
              "      <td>3</td>\n",
              "      <td>1</td>\n",
              "      <td>0</td>\n",
              "    </tr>\n",
              "    <tr>\n",
              "      <th>4</th>\n",
              "      <td>0</td>\n",
              "      <td>3</td>\n",
              "      <td>1</td>\n",
              "      <td>5</td>\n",
              "      <td>0</td>\n",
              "      <td>0</td>\n",
              "      <td>8</td>\n",
              "      <td>0</td>\n",
              "      <td>1</td>\n",
              "      <td>0</td>\n",
              "      <td>1</td>\n",
              "    </tr>\n",
              "  </tbody>\n",
              "</table>\n",
              "</div>"
            ],
            "text/plain": [
              "   Survived  Pclass  Sex  Age  ...  Embarked  Title  Relatives  not_alone\n",
              "0         0       3    1    2  ...         0      1          1          0\n",
              "1         1       1    0    5  ...         1      3          1          0\n",
              "2         1       3    0    3  ...         0      2          0          1\n",
              "3         1       1    0    5  ...         0      3          1          0\n",
              "4         0       3    1    5  ...         0      1          0          1\n",
              "\n",
              "[5 rows x 11 columns]"
            ]
          },
          "metadata": {
            "tags": []
          },
          "execution_count": 180
        }
      ]
    },
    {
      "cell_type": "markdown",
      "metadata": {
        "id": "5srLVoYsGbwl"
      },
      "source": [
        "## Splitting Data into Training and Test set"
      ]
    },
    {
      "cell_type": "code",
      "metadata": {
        "id": "JiFJpRIIDp93"
      },
      "source": [
        "y = data.iloc[:, 0].values"
      ],
      "execution_count": 181,
      "outputs": []
    },
    {
      "cell_type": "code",
      "metadata": {
        "id": "g-weEcqUDvba"
      },
      "source": [
        "data.drop(['Survived'], axis=1, inplace=True)"
      ],
      "execution_count": 182,
      "outputs": []
    },
    {
      "cell_type": "code",
      "metadata": {
        "id": "FggBQHVfD2Ai"
      },
      "source": [
        "x = data.values"
      ],
      "execution_count": 183,
      "outputs": []
    },
    {
      "cell_type": "code",
      "metadata": {
        "id": "m89TTL2WEEiE"
      },
      "source": [
        "x_train, x_test, y_train, y_test = train_test_split(x,y, test_size=0.2, random_state=42, stratify=y)"
      ],
      "execution_count": 184,
      "outputs": []
    },
    {
      "cell_type": "markdown",
      "metadata": {
        "id": "h-R-BnLNGwUY"
      },
      "source": [
        "### Feature Scaling Fare Column"
      ]
    },
    {
      "cell_type": "code",
      "metadata": {
        "id": "44oOpE70GWMI"
      },
      "source": [
        "ct = ColumnTransformer(transformers=[('scaling',  StandardScaler(), [5])], remainder='passthrough')\n",
        "x_train = np.array(ct.fit_transform(x_train))\n",
        "x_test = np.array(ct.transform(x_test))"
      ],
      "execution_count": 185,
      "outputs": []
    },
    {
      "cell_type": "markdown",
      "metadata": {
        "id": "6kQXzx29HUd9"
      },
      "source": [
        "Our data is ready for our Models"
      ]
    },
    {
      "cell_type": "markdown",
      "metadata": {
        "id": "eA0y8wabHamH"
      },
      "source": [
        "# Models"
      ]
    },
    {
      "cell_type": "markdown",
      "metadata": {
        "id": "ZMu_PPucOHOp"
      },
      "source": [
        "### Function for Evaluating Model Performance"
      ]
    },
    {
      "cell_type": "code",
      "metadata": {
        "id": "zF2gmouiOGsy"
      },
      "source": [
        "def score(y_pred,y_test):\n",
        "    cm = confusion_matrix(y_test,y_pred)\n",
        "    sns.heatmap(cm, annot=True, cmap='Blues')\n",
        "    accuracy = accuracy_score(y_test,y_pred)*100\n",
        "    auc = roc_auc_score(y_test,y_pred)*100\n",
        "    print(\"Accuracy Score\", accuracy, \"%\")\n",
        "    print(\"ROC_AUC Score\", auc, \"%\")\n",
        "    return (accuracy, auc)"
      ],
      "execution_count": 186,
      "outputs": []
    },
    {
      "cell_type": "markdown",
      "metadata": {
        "id": "vyEkojJJHcKJ"
      },
      "source": [
        "## Logistic Regression"
      ]
    },
    {
      "cell_type": "code",
      "metadata": {
        "id": "v1RyZLdBHOWR"
      },
      "source": [
        "log_reg = LogisticRegression()\n",
        "log_reg.fit(x_train, y_train)\n",
        "y_log_pred = log_reg.predict(x_test)"
      ],
      "execution_count": 187,
      "outputs": []
    },
    {
      "cell_type": "code",
      "metadata": {
        "colab": {
          "base_uri": "https://localhost:8080/",
          "height": 298
        },
        "id": "nOc3dwgCNfut",
        "outputId": "e7efdc70-2621-46d4-9598-ccd9358d89af"
      },
      "source": [
        "log_acc, log_auc = score(y_test, y_log_pred)"
      ],
      "execution_count": 188,
      "outputs": [
        {
          "output_type": "stream",
          "text": [
            "Accuracy Score 82.12290502793296 %\n",
            "ROC_AUC Score 81.68935815504307 %\n"
          ],
          "name": "stdout"
        },
        {
          "output_type": "display_data",
          "data": {
            "image/png": "[encoded data removed]",
            "text/plain": [
              "<Figure size 432x288 with 2 Axes>"
            ]
          },
          "metadata": {
            "tags": [],
            "needs_background": "light"
          }
        }
      ]
    },
    {
      "cell_type": "markdown",
      "metadata": {
        "id": "CszR9SxhPifp"
      },
      "source": [
        "## KNN"
      ]
    },
    {
      "cell_type": "code",
      "metadata": {
        "id": "H5FUdPRVOkFU"
      },
      "source": [
        "knn_class = KNeighborsClassifier()\n",
        "knn_class.fit(x_train, y_train)\n",
        "y_knn_pred = knn_class.predict(x_test)"
      ],
      "execution_count": 189,
      "outputs": []
    },
    {
      "cell_type": "code",
      "metadata": {
        "colab": {
          "base_uri": "https://localhost:8080/",
          "height": 298
        },
        "id": "24Uk8gTSPzUZ",
        "outputId": "847b883d-399d-401a-9d6e-e763eef01891"
      },
      "source": [
        "knn_acc, knn_auc = score(y_test, y_knn_pred)"
      ],
      "execution_count": 190,
      "outputs": [
        {
          "output_type": "stream",
          "text": [
            "Accuracy Score 81.00558659217877 %\n",
            "ROC_AUC Score 80.12820512820514 %\n"
          ],
          "name": "stdout"
        },
        {
          "output_type": "display_data",
          "data": {
            "image/png": "[encoded data removed]",
            "text/plain": [
              "<Figure size 432x288 with 2 Axes>"
            ]
          },
          "metadata": {
            "tags": [],
            "needs_background": "light"
          }
        }
      ]
    },
    {
      "cell_type": "markdown",
      "metadata": {
        "id": "eKv_zbn0QAvl"
      },
      "source": [
        "## SVM Linear"
      ]
    },
    {
      "cell_type": "code",
      "metadata": {
        "id": "Ys-OQvQrP3D0"
      },
      "source": [
        "svc_class = SVC(kernel='linear')\n",
        "svc_class.fit(x_train,y_train)\n",
        "y_svc_pred = svc_class.predict(x_test)"
      ],
      "execution_count": 191,
      "outputs": []
    },
    {
      "cell_type": "code",
      "metadata": {
        "colab": {
          "base_uri": "https://localhost:8080/",
          "height": 298
        },
        "id": "NF_hajBJQOPa",
        "outputId": "07b440b7-0627-4d0b-fd33-0531872136ce"
      },
      "source": [
        "svc_acc, svc_auc = score(y_test, y_svc_pred)"
      ],
      "execution_count": 192,
      "outputs": [
        {
          "output_type": "stream",
          "text": [
            "Accuracy Score 83.24022346368714 %\n",
            "ROC_AUC Score 82.71756978653531 %\n"
          ],
          "name": "stdout"
        },
        {
          "output_type": "display_data",
          "data": {
            "image/png": "[encoded data removed]",
            "text/plain": [
              "<Figure size 432x288 with 2 Axes>"
            ]
          },
          "metadata": {
            "tags": [],
            "needs_background": "light"
          }
        }
      ]
    },
    {
      "cell_type": "markdown",
      "metadata": {
        "id": "vnpaYMHtR6PN"
      },
      "source": [
        "## SVM Kernel"
      ]
    },
    {
      "cell_type": "code",
      "metadata": {
        "id": "HceXLx3gQRU1"
      },
      "source": [
        "kernel_class = SVC()\n",
        "kernel_class.fit(x_train,y_train)\n",
        "y_kernel_pred = kernel_class.predict(x_test)"
      ],
      "execution_count": 193,
      "outputs": []
    },
    {
      "cell_type": "code",
      "metadata": {
        "colab": {
          "base_uri": "https://localhost:8080/",
          "height": 298
        },
        "id": "c8gJlJISSGZo",
        "outputId": "1cc7a707-e9b7-424c-fdad-801f0e69a281"
      },
      "source": [
        "kernel_acc, kernel_auc = score(y_test, y_kernel_pred)"
      ],
      "execution_count": 194,
      "outputs": [
        {
          "output_type": "stream",
          "text": [
            "Accuracy Score 83.24022346368714 %\n",
            "ROC_AUC Score 82.54385964912281 %\n"
          ],
          "name": "stdout"
        },
        {
          "output_type": "display_data",
          "data": {
            "image/png": "[encoded data removed]",
            "text/plain": [
              "<Figure size 432x288 with 2 Axes>"
            ]
          },
          "metadata": {
            "tags": [],
            "needs_background": "light"
          }
        }
      ]
    },
    {
      "cell_type": "markdown",
      "metadata": {
        "id": "DzwAKPYDSN6U"
      },
      "source": [
        "## Naive Bayes"
      ]
    },
    {
      "cell_type": "code",
      "metadata": {
        "id": "N6QCpk1uSKv0"
      },
      "source": [
        "nb_class = GaussianNB()\n",
        "nb_class.fit(x_train,y_train)\n",
        "y_nb_pred = nb_class.predict(x_test)"
      ],
      "execution_count": 195,
      "outputs": []
    },
    {
      "cell_type": "code",
      "metadata": {
        "colab": {
          "base_uri": "https://localhost:8080/",
          "height": 300
        },
        "id": "C78KBQ6YSVvY",
        "outputId": "90d04496-f15a-407d-bd8e-631d6341ad86"
      },
      "source": [
        "nb_acc, nb_auc = score(y_test, y_nb_pred)"
      ],
      "execution_count": 196,
      "outputs": [
        {
          "output_type": "stream",
          "text": [
            "Accuracy Score 80.44692737430168 %\n",
            "ROC_AUC Score 79.32892004153686 %\n"
          ],
          "name": "stdout"
        },
        {
          "output_type": "display_data",
          "data": {
            "image/png": "[encoded data removed]",
            "text/plain": [
              "<Figure size 432x288 with 2 Axes>"
            ]
          },
          "metadata": {
            "tags": [],
            "needs_background": "light"
          }
        }
      ]
    },
    {
      "cell_type": "markdown",
      "metadata": {
        "id": "Dx2kkNfoSecZ"
      },
      "source": [
        "## Decision Tree"
      ]
    },
    {
      "cell_type": "code",
      "metadata": {
        "id": "KwT29SOPSYIL"
      },
      "source": [
        "dt_class = DecisionTreeClassifier(criterion='entropy', random_state=42)\n",
        "dt_class.fit(x_train, y_train)\n",
        "y_dt_pred = dt_class.predict(x_test)"
      ],
      "execution_count": 197,
      "outputs": []
    },
    {
      "cell_type": "code",
      "metadata": {
        "colab": {
          "base_uri": "https://localhost:8080/",
          "height": 298
        },
        "id": "eqZabhZDSvd2",
        "outputId": "cbf3539f-1d49-4215-9196-3a211a1ea9e0"
      },
      "source": [
        "dt_acc, dt_auc = score(y_test, y_dt_pred)"
      ],
      "execution_count": 198,
      "outputs": [
        {
          "output_type": "stream",
          "text": [
            "Accuracy Score 80.44692737430168 %\n",
            "ROC_AUC Score 79.3918918918919 %\n"
          ],
          "name": "stdout"
        },
        {
          "output_type": "display_data",
          "data": {
            "image/png": "[encoded data removed]",
            "text/plain": [
              "<Figure size 432x288 with 2 Axes>"
            ]
          },
          "metadata": {
            "tags": [],
            "needs_background": "light"
          }
        }
      ]
    },
    {
      "cell_type": "markdown",
      "metadata": {
        "id": "-0ZhGeDfS1sp"
      },
      "source": [
        "## Random Forrest"
      ]
    },
    {
      "cell_type": "code",
      "metadata": {
        "id": "9FdBkZajSxen"
      },
      "source": [
        "rf_class = RandomForestClassifier(criterion='entropy', random_state=42)\n",
        "rf_class.fit(x_train, y_train)\n",
        "y_rf_pred = rf_class.predict(x_test)"
      ],
      "execution_count": 199,
      "outputs": []
    },
    {
      "cell_type": "code",
      "metadata": {
        "colab": {
          "base_uri": "https://localhost:8080/",
          "height": 298
        },
        "id": "ZGYklSg-UBcP",
        "outputId": "77e42dc6-d9ab-41b6-854c-c3584139ca1d"
      },
      "source": [
        "rf_acc, rf_auc = score(y_test, y_rf_pred)"
      ],
      "execution_count": 200,
      "outputs": [
        {
          "output_type": "stream",
          "text": [
            "Accuracy Score 81.00558659217877 %\n",
            "ROC_AUC Score 80.02398720682304 %\n"
          ],
          "name": "stdout"
        },
        {
          "output_type": "display_data",
          "data": {
            "image/png": "[encoded data removed]",
            "text/plain": [
              "<Figure size 432x288 with 2 Axes>"
            ]
          },
          "metadata": {
            "tags": [],
            "needs_background": "light"
          }
        }
      ]
    },
    {
      "cell_type": "markdown",
      "metadata": {
        "id": "nS3i7ENtULsK"
      },
      "source": [
        "## XGBoost"
      ]
    },
    {
      "cell_type": "code",
      "metadata": {
        "id": "dLUEC1MpUDfC"
      },
      "source": [
        "xgb_class = XGBClassifier(random_state=42)\n",
        "xgb_class.fit(x_train,y_train)\n",
        "y_xgb_pred = xgb_class.predict(x_test)"
      ],
      "execution_count": 201,
      "outputs": []
    },
    {
      "cell_type": "code",
      "metadata": {
        "colab": {
          "base_uri": "https://localhost:8080/",
          "height": 298
        },
        "id": "BalZbAazUXdU",
        "outputId": "ad42be3d-4a0d-42a2-861c-a8322f7d093b"
      },
      "source": [
        "xgb_acc, xgb_auc = score(y_test, y_xgb_pred)"
      ],
      "execution_count": 202,
      "outputs": [
        {
          "output_type": "stream",
          "text": [
            "Accuracy Score 82.12290502793296 %\n",
            "ROC_AUC Score 81.68935815504307 %\n"
          ],
          "name": "stdout"
        },
        {
          "output_type": "display_data",
          "data": {
            "image/png": "[encoded data removed]",
            "text/plain": [
              "<Figure size 432x288 with 2 Axes>"
            ]
          },
          "metadata": {
            "tags": [],
            "needs_background": "light"
          }
        }
      ]
    },
    {
      "cell_type": "markdown",
      "metadata": {
        "id": "prl6w0pOUd0_"
      },
      "source": [
        "## LightGBM"
      ]
    },
    {
      "cell_type": "code",
      "metadata": {
        "id": "4jbTzBp5Uans"
      },
      "source": [
        "lgb_class = LGBMClassifier(random_state=42)\n",
        "lgb_class.fit(x_train,y_train)\n",
        "y_lgb_pred = lgb_class.predict(x_test)"
      ],
      "execution_count": 203,
      "outputs": []
    },
    {
      "cell_type": "code",
      "metadata": {
        "colab": {
          "base_uri": "https://localhost:8080/",
          "height": 298
        },
        "id": "xwiWeAmHUsS9",
        "outputId": "3cc336b0-a8dd-4271-ab31-803fb3ce3839"
      },
      "source": [
        "lgb_acc, lgb_auc = score(y_test, y_lgb_pred)"
      ],
      "execution_count": 204,
      "outputs": [
        {
          "output_type": "stream",
          "text": [
            "Accuracy Score 81.00558659217877 %\n",
            "ROC_AUC Score 79.95388669301713 %\n"
          ],
          "name": "stdout"
        },
        {
          "output_type": "display_data",
          "data": {
            "image/png": "[encoded data removed]",
            "text/plain": [
              "<Figure size 432x288 with 2 Axes>"
            ]
          },
          "metadata": {
            "tags": [],
            "needs_background": "light"
          }
        }
      ]
    },
    {
      "cell_type": "markdown",
      "metadata": {
        "id": "biunN69CVkCF"
      },
      "source": [
        "# Comparing Model Performance"
      ]
    },
    {
      "cell_type": "code",
      "metadata": {
        "id": "L_szvOUdUvME"
      },
      "source": [
        "model_accuracy = [log_acc, knn_acc, svc_acc, kernel_acc, nb_acc, dt_acc, rf_acc, xgb_acc, lgb_acc]\n",
        "model_auc = [log_auc, knn_auc, svc_auc, kernel_auc, nb_auc, dt_auc, rf_auc, xgb_auc, lgb_auc]\n",
        "models=[\"Logistic Regression\", \"KNN\", \"SVC Linear\", \"SVC Kernel\", \"Naive Bayes\", \"Decision Tree\", \"Random Forrest\", \"XGBoost\", \"LightGBM\"]"
      ],
      "execution_count": 205,
      "outputs": []
    },
    {
      "cell_type": "code",
      "metadata": {
        "colab": {
          "base_uri": "https://localhost:8080/",
          "height": 584
        },
        "id": "wXippK26VsoP",
        "outputId": "59f6ce4d-b45d-4e52-a7ff-4e634f2f6af2"
      },
      "source": [
        "plt.figure(figsize=(12,9))\n",
        "ax = sns.barplot(x=models, y=model_accuracy)\n",
        "for p in ax.patches:\n",
        "  height = p.get_height()\n",
        "  ax.text(p.get_x() + p.get_width()/2.,\n",
        "          height + 1,\n",
        "          '{:1.3f}%'.format(height),\n",
        "          ha='center')\n",
        "  \n",
        "plt.ylabel('Model Accuracy')\n",
        "plt.xlabel('Model Name')\n",
        "plt.title('Comparing Model Accuracy(Test Set)')"
      ],
      "execution_count": 206,
      "outputs": [
        {
          "output_type": "execute_result",
          "data": {
            "text/plain": [
              "Text(0.5, 1.0, 'Comparing Model Accuracy(Test Set)')"
            ]
          },
          "metadata": {
            "tags": []
          },
          "execution_count": 206
        },
        {
          "output_type": "display_data",
          "data": {
            "image/png": "[encoded data removed]",
            "text/plain": [
              "<Figure size 864x648 with 1 Axes>"
            ]
          },
          "metadata": {
            "tags": [],
            "needs_background": "light"
          }
        }
      ]
    },
    {
      "cell_type": "code",
      "metadata": {
        "colab": {
          "base_uri": "https://localhost:8080/",
          "height": 584
        },
        "id": "uZeImxBcVyyq",
        "outputId": "1d060a07-8064-4ac4-f8c8-6c71281abc8e"
      },
      "source": [
        "plt.figure(figsize=(12,9))\n",
        "ax = sns.barplot(x=models, y=model_auc)\n",
        "for p in ax.patches:\n",
        "  height = p.get_height()\n",
        "  ax.text(p.get_x() + p.get_width()/2.,\n",
        "          height + 1,\n",
        "          '{:1.3f}%'.format(height),\n",
        "          ha='center')\n",
        "  \n",
        "plt.ylabel('Model AUC Score')\n",
        "plt.xlabel('Model Name')\n",
        "plt.title('Comparing Model AUC Score(Test Set)')"
      ],
      "execution_count": 207,
      "outputs": [
        {
          "output_type": "execute_result",
          "data": {
            "text/plain": [
              "Text(0.5, 1.0, 'Comparing Model AUC Score(Test Set)')"
            ]
          },
          "metadata": {
            "tags": []
          },
          "execution_count": 207
        },
        {
          "output_type": "display_data",
          "data": {
            "image/png": "[encoded data removed]",
            "text/plain": [
              "<Figure size 864x648 with 1 Axes>"
            ]
          },
          "metadata": {
            "tags": [],
            "needs_background": "light"
          }
        }
      ]
    },
    {
      "cell_type": "markdown",
      "metadata": {
        "id": "ANhT4ApnV_vO"
      },
      "source": [
        "We proceed with Cross Validation for 4 of our best models:\n",
        "\n",
        "\n",
        "*   SVC Kernel\n",
        "*   Random Forrest\n",
        "*   XGBoost\n",
        "*   LightGBM\n"
      ]
    },
    {
      "cell_type": "markdown",
      "metadata": {
        "id": "mgVrIgmAWL5L"
      },
      "source": [
        "# Cross Validation"
      ]
    },
    {
      "cell_type": "markdown",
      "metadata": {
        "id": "pfECao-_WOqQ"
      },
      "source": [
        "We will use accuracy as our metric for cross validation."
      ]
    },
    {
      "cell_type": "code",
      "metadata": {
        "id": "bxLWWTuzV6vi"
      },
      "source": [
        "kernel_cv = cross_val_score(kernel_class,x_train, y_train, cv=10, scoring='accuracy')\n",
        "rf_cv = cross_val_score(rf_class, x_train, y_train, cv=10, scoring='accuracy')\n",
        "xgb_cv = cross_val_score(xgb_class, x_train, y_train, cv=10, scoring='accuracy')\n",
        "lgb_cv = cross_val_score(lgb_class, x_train, y_train, cv=10, scoring='accuracy')"
      ],
      "execution_count": 208,
      "outputs": []
    },
    {
      "cell_type": "code",
      "metadata": {
        "colab": {
          "base_uri": "https://localhost:8080/"
        },
        "id": "66O7GUPYWdt1",
        "outputId": "3948bb36-3e27-46a4-b6a6-59d65e4760ef"
      },
      "source": [
        "print(\"Cross Validation Score for SVC Kernel Model is: {:1.3f} +- {:1.3f}\".format(kernel_cv.mean()*100, kernel_cv.std()*100))\n",
        "print(\"Cross Validation Score for Random Forrest Model is: {:1.3f} +- {:1.3f}\".format(rf_cv.mean()*100, rf_cv.std()*100))\n",
        "print(\"Cross Validation Score for XGBoost Model is: {:1.3f} +- {:1.3f}\".format(xgb_cv.mean()*100, xgb_cv.std()*100))\n",
        "print(\"Cross Validation Score for LightGBM Model is: {:1.3f} +- {:1.3f}\".format(lgb_cv.mean()*100, lgb_cv.std()*100))"
      ],
      "execution_count": 209,
      "outputs": [
        {
          "output_type": "stream",
          "text": [
            "Cross Validation Score for SVC Kernel Model is: 82.316 +- 3.188\n",
            "Cross Validation Score for Random Forrest Model is: 81.326 +- 4.813\n",
            "Cross Validation Score for XGBoost Model is: 81.612 +- 3.892\n",
            "Cross Validation Score for LightGBM Model is: 82.034 +- 4.854\n"
          ],
          "name": "stdout"
        }
      ]
    },
    {
      "cell_type": "markdown",
      "metadata": {
        "id": "S8u38LQuYwfE"
      },
      "source": [
        "Let us consider just **SVM Kernel, XGBoost and LightGBM** for hyperparametr tuning as LightGBM has the lowest mean accuracy and one of the highest Standard deviation from our cross validation."
      ]
    },
    {
      "cell_type": "markdown",
      "metadata": {
        "id": "4vdY5bK-ZGQG"
      },
      "source": [
        "# HyperParameter Tuning using GridSearchCV"
      ]
    },
    {
      "cell_type": "markdown",
      "metadata": {
        "id": "uXGrPsnpZMpw"
      },
      "source": [
        "## SVM Kernel"
      ]
    },
    {
      "cell_type": "code",
      "metadata": {
        "id": "OwThKGLAWqNg"
      },
      "source": [
        "svm_params = {\n",
        "    'kernel' : ['linear', 'rbf', 'poly', 'sigmoid'],\n",
        "    'C' : [0.1, 1, 10, 100],\n",
        "    'gamma' : [1, 0.1, 0.01, 0.001]\n",
        "}"
      ],
      "execution_count": 210,
      "outputs": []
    },
    {
      "cell_type": "code",
      "metadata": {
        "id": "GK_ZW3Jcar1d"
      },
      "source": [
        "svc_grid = GridSearchCV(kernel_class, \n",
        "                        param_grid = svm_params,\n",
        "                        cv=3,\n",
        "                        n_jobs=-1,\n",
        "                        verbose=1)"
      ],
      "execution_count": 211,
      "outputs": []
    },
    {
      "cell_type": "code",
      "metadata": {
        "colab": {
          "base_uri": "https://localhost:8080/"
        },
        "id": "xaqTKh4obNge",
        "outputId": "7c2dbf42-52a1-4d58-fbf9-04f6a07c30e0"
      },
      "source": [
        "svc_grid.fit(x_train,y_train)"
      ],
      "execution_count": null,
      "outputs": [
        {
          "output_type": "stream",
          "text": [
            "Fitting 3 folds for each of 64 candidates, totalling 192 fits\n"
          ],
          "name": "stdout"
        },
        {
          "output_type": "stream",
          "text": [
            "[Parallel(n_jobs=-1)]: Using backend LokyBackend with 2 concurrent workers.\n",
            "[Parallel(n_jobs=-1)]: Done 125 tasks      | elapsed:  1.8min\n",
            "[Parallel(n_jobs=-1)]: Done 192 out of 192 | elapsed: 14.4min finished\n"
          ],
          "name": "stderr"
        },
        {
          "output_type": "execute_result",
          "data": {
            "text/plain": [
              "GridSearchCV(cv=3, error_score=nan,\n",
              "             estimator=SVC(C=1.0, break_ties=False, cache_size=200,\n",
              "                           class_weight=None, coef0=0.0,\n",
              "                           decision_function_shape='ovr', degree=3,\n",
              "                           gamma='scale', kernel='rbf', max_iter=-1,\n",
              "                           probability=False, random_state=None, shrinking=True,\n",
              "                           tol=0.001, verbose=False),\n",
              "             iid='deprecated', n_jobs=-1,\n",
              "             param_grid={'C': [0.1, 1, 10, 100], 'gamma': [1, 0.1, 0.01, 0.001],\n",
              "                         'kernel': ['linear', 'rbf', 'poly', 'sigmoid']},\n",
              "             pre_dispatch='2*n_jobs', refit=True, return_train_score=False,\n",
              "             scoring=None, verbose=1)"
            ]
          },
          "metadata": {
            "tags": []
          },
          "execution_count": 451
        }
      ]
    },
    {
      "cell_type": "code",
      "metadata": {
        "colab": {
          "base_uri": "https://localhost:8080/"
        },
        "id": "mdcCsOyIbRd9",
        "outputId": "2b4a2be1-9c4b-4246-a1fc-fc688471a08d"
      },
      "source": [
        "svc_grid.best_params_"
      ],
      "execution_count": null,
      "outputs": [
        {
          "output_type": "execute_result",
          "data": {
            "text/plain": [
              "{'C': 1, 'gamma': 0.1, 'kernel': 'poly'}"
            ]
          },
          "metadata": {
            "tags": []
          },
          "execution_count": 452
        }
      ]
    },
    {
      "cell_type": "code",
      "metadata": {
        "colab": {
          "base_uri": "https://localhost:8080/"
        },
        "id": "4AiCT28Whgx2",
        "outputId": "f2a7b054-019b-4b3a-a861-a8dfca20ebf9"
      },
      "source": [
        "svc_grid.best_estimator_"
      ],
      "execution_count": null,
      "outputs": [
        {
          "output_type": "execute_result",
          "data": {
            "text/plain": [
              "SVC(C=1, break_ties=False, cache_size=200, class_weight=None, coef0=0.0,\n",
              "    decision_function_shape='ovr', degree=3, gamma=0.1, kernel='poly',\n",
              "    max_iter=-1, probability=False, random_state=None, shrinking=True,\n",
              "    tol=0.001, verbose=False)"
            ]
          },
          "metadata": {
            "tags": []
          },
          "execution_count": 453
        }
      ]
    },
    {
      "cell_type": "code",
      "metadata": {
        "colab": {
          "base_uri": "https://localhost:8080/"
        },
        "id": "yx_PF8-_hjHq",
        "outputId": "59118f11-2afe-4210-f2f5-b7e09b771618"
      },
      "source": [
        "svc_class_opt = SVC(C=1, break_ties=False, cache_size=200, class_weight=None, coef0=0.0,\n",
        "    decision_function_shape='ovr', degree=3, gamma=0.1, kernel='poly',\n",
        "    max_iter=-1, probability=False, random_state=None, shrinking=True,\n",
        "    tol=0.001, verbose=False)\n",
        "svc_class_opt.fit(x_train,y_train)"
      ],
      "execution_count": 212,
      "outputs": [
        {
          "output_type": "execute_result",
          "data": {
            "text/plain": [
              "SVC(C=1, break_ties=False, cache_size=200, class_weight=None, coef0=0.0,\n",
              "    decision_function_shape='ovr', degree=3, gamma=0.1, kernel='poly',\n",
              "    max_iter=-1, probability=False, random_state=None, shrinking=True,\n",
              "    tol=0.001, verbose=False)"
            ]
          },
          "metadata": {
            "tags": []
          },
          "execution_count": 212
        }
      ]
    },
    {
      "cell_type": "code",
      "metadata": {
        "colab": {
          "base_uri": "https://localhost:8080/",
          "height": 298
        },
        "id": "NJt2SQTKhpDs",
        "outputId": "7144498e-20e3-47b6-e61e-43ef21050b31"
      },
      "source": [
        "y_svc_pred = svc_class_opt.predict(x_test)\n",
        "svc_acc, svc_auc = score(y_test, y_svc_pred)"
      ],
      "execution_count": 213,
      "outputs": [
        {
          "output_type": "stream",
          "text": [
            "Accuracy Score 81.00558659217877 %\n",
            "ROC_AUC Score 80.92464768478574 %\n"
          ],
          "name": "stdout"
        },
        {
          "output_type": "display_data",
          "data": {
            "image/png": "[encoded data removed]",
            "text/plain": [
              "<Figure size 432x288 with 2 Axes>"
            ]
          },
          "metadata": {
            "tags": [],
            "needs_background": "light"
          }
        }
      ]
    },
    {
      "cell_type": "markdown",
      "metadata": {
        "id": "a6DOpGXlh_pa"
      },
      "source": [
        "## LightGBM"
      ]
    },
    {
      "cell_type": "code",
      "metadata": {
        "id": "qtwuadSmh4Vt"
      },
      "source": [
        " lgb_params = {'learning_rate': [0.001, 0.01, 0.1], \n",
        "               'num_leaves': [6, 8, 12, 16], \n",
        "               'boosting_type': ['gbdt','dart','goss'], \n",
        "               'colsample_bytree': [0.65, 0.75, 0.8], \n",
        "               'subsample': [0.7, 0.75],\n",
        "               'reg_alpha': [1, 2, 6],\n",
        "               'reg_lambda': [1, 2, 6]\n",
        "               }"
      ],
      "execution_count": 214,
      "outputs": []
    },
    {
      "cell_type": "code",
      "metadata": {
        "id": "Vp4D9lw3jEle"
      },
      "source": [
        "lgb_grid = GridSearchCV(lgb_class,\n",
        "                       param_grid = lgb_params,\n",
        "                       cv=3,\n",
        "                       n_jobs=-1,\n",
        "                       verbose=1)"
      ],
      "execution_count": 72,
      "outputs": []
    },
    {
      "cell_type": "code",
      "metadata": {
        "colab": {
          "base_uri": "https://localhost:8080/"
        },
        "id": "x_AEjD8FjMTu",
        "outputId": "53c5ef5d-4bda-4b21-8bc2-93215a3b5a1f"
      },
      "source": [
        "lgb_grid.fit(x_train, y_train)"
      ],
      "execution_count": null,
      "outputs": [
        {
          "output_type": "stream",
          "text": [
            "Fitting 3 folds for each of 1944 candidates, totalling 5832 fits\n"
          ],
          "name": "stdout"
        },
        {
          "output_type": "stream",
          "text": [
            "[Parallel(n_jobs=-1)]: Using backend LokyBackend with 2 concurrent workers.\n",
            "[Parallel(n_jobs=-1)]: Done 244 tasks      | elapsed:    3.2s\n",
            "[Parallel(n_jobs=-1)]: Done 1444 tasks      | elapsed:   17.0s\n",
            "[Parallel(n_jobs=-1)]: Done 3444 tasks      | elapsed:   49.0s\n",
            "[Parallel(n_jobs=-1)]: Done 5832 out of 5832 | elapsed:  1.3min finished\n"
          ],
          "name": "stderr"
        },
        {
          "output_type": "execute_result",
          "data": {
            "text/plain": [
              "GridSearchCV(cv=3, error_score=nan,\n",
              "             estimator=LGBMClassifier(boosting_type='gbdt', class_weight=None,\n",
              "                                      colsample_bytree=1.0,\n",
              "                                      importance_type='split',\n",
              "                                      learning_rate=0.1, max_depth=-1,\n",
              "                                      min_child_samples=20,\n",
              "                                      min_child_weight=0.001,\n",
              "                                      min_split_gain=0.0, n_estimators=100,\n",
              "                                      n_jobs=-1, num_leaves=31, objective=None,\n",
              "                                      random_state=42, reg_alpha=0.0,\n",
              "                                      reg_lambda=0.0, silent=True,\n",
              "                                      subsample=1.0, subsample_for_bin=200000,\n",
              "                                      subsample_freq=0),\n",
              "             iid='deprecated', n_jobs=-1,\n",
              "             param_grid={'boosting_type': ['gbdt', 'dart', 'goss'],\n",
              "                         'colsample_bytree': [0.65, 0.75, 0.8],\n",
              "                         'learning_rate': [0.001, 0.01, 0.1],\n",
              "                         'num_leaves': [6, 8, 12, 16], 'reg_alpha': [1, 2, 6],\n",
              "                         'reg_lambda': [1, 2, 6], 'subsample': [0.7, 0.75]},\n",
              "             pre_dispatch='2*n_jobs', refit=True, return_train_score=False,\n",
              "             scoring=None, verbose=1)"
            ]
          },
          "metadata": {
            "tags": []
          },
          "execution_count": 458
        }
      ]
    },
    {
      "cell_type": "code",
      "metadata": {
        "id": "sK92IotpjXBf"
      },
      "source": [
        "lgb_grid.best_params_"
      ],
      "execution_count": null,
      "outputs": []
    },
    {
      "cell_type": "code",
      "metadata": {
        "colab": {
          "base_uri": "https://localhost:8080/"
        },
        "id": "J8f4AQXilTU6",
        "outputId": "9c0d261f-871c-4e96-be52-7115132094b2"
      },
      "source": [
        "lgb_grid.best_estimator_"
      ],
      "execution_count": null,
      "outputs": [
        {
          "output_type": "execute_result",
          "data": {
            "text/plain": [
              "LGBMClassifier(boosting_type='gbdt', class_weight=None, colsample_bytree=0.75,\n",
              "               importance_type='split', learning_rate=0.1, max_depth=-1,\n",
              "               min_child_samples=20, min_child_weight=0.001, min_split_gain=0.0,\n",
              "               n_estimators=100, n_jobs=-1, num_leaves=12, objective=None,\n",
              "               random_state=42, reg_alpha=1, reg_lambda=6, silent=True,\n",
              "               subsample=0.7, subsample_for_bin=200000, subsample_freq=0)"
            ]
          },
          "metadata": {
            "tags": []
          },
          "execution_count": 460
        }
      ]
    },
    {
      "cell_type": "code",
      "metadata": {
        "id": "waFI0WmUlXK7"
      },
      "source": [
        "lgb_class_opt = LGBMClassifier(boosting_type='gbdt', class_weight=None, colsample_bytree=0.75,\n",
        "               importance_type='split', learning_rate=0.1, max_depth=-1,\n",
        "               min_child_samples=20, min_child_weight=0.001, min_split_gain=0.0,\n",
        "               n_estimators=100, n_jobs=-1, num_leaves=12, objective=None,\n",
        "               random_state=42, reg_alpha=1, reg_lambda=6, silent=True,\n",
        "               subsample=0.7, subsample_for_bin=200000, subsample_freq=0)"
      ],
      "execution_count": 215,
      "outputs": []
    },
    {
      "cell_type": "code",
      "metadata": {
        "id": "5NPWrH0glb3U"
      },
      "source": [
        "lgb_class_opt.fit(x_train,y_train)\n",
        "y_lgb_pred = lgb_class_opt.predict(x_test)"
      ],
      "execution_count": 216,
      "outputs": []
    },
    {
      "cell_type": "code",
      "metadata": {
        "colab": {
          "base_uri": "https://localhost:8080/",
          "height": 301
        },
        "id": "_afMZPoWlh6h",
        "outputId": "ff260da2-bff3-43a1-9b13-fb308580272d"
      },
      "source": [
        "lgb_acc, lgb_auc = score(y_test, y_lgb_pred)"
      ],
      "execution_count": 217,
      "outputs": [
        {
          "output_type": "stream",
          "text": [
            "Accuracy Score 83.24022346368714 %\n",
            "ROC_AUC Score 83.49870578084555 %\n"
          ],
          "name": "stdout"
        },
        {
          "output_type": "display_data",
          "data": {
            "image/png": "[encoded data removed]",
            "text/plain": [
              "<Figure size 432x288 with 2 Axes>"
            ]
          },
          "metadata": {
            "tags": [],
            "needs_background": "light"
          }
        }
      ]
    },
    {
      "cell_type": "markdown",
      "metadata": {
        "id": "i5G1sVZdlt0Q"
      },
      "source": [
        "## XGBoost"
      ]
    },
    {
      "cell_type": "code",
      "metadata": {
        "id": "4TyJCJkrlnDP"
      },
      "source": [
        "xgb_params = {\n",
        "        'min_child_weight': [1, 5, 10],\n",
        "        'gamma': [0.5, 1, 1.5, 2, 5],\n",
        "        'subsample': [0.6, 0.8, 1.0],\n",
        "        'colsample_bytree': [0.6, 0.8, 1.0],\n",
        "        'max_depth': [3, 4, 5]\n",
        "        }"
      ],
      "execution_count": 218,
      "outputs": []
    },
    {
      "cell_type": "code",
      "metadata": {
        "id": "JTpt1O_Xl-dG"
      },
      "source": [
        "xgb_grid = GridSearchCV(xgb_class,\n",
        "                        param_grid = xgb_params,\n",
        "                        cv=3,\n",
        "                        n_jobs=-1,\n",
        "                        verbose=1)"
      ],
      "execution_count": 219,
      "outputs": []
    },
    {
      "cell_type": "code",
      "metadata": {
        "colab": {
          "base_uri": "https://localhost:8080/"
        },
        "id": "DKgGWj58mHlX",
        "outputId": "5680189c-20ef-4393-ba42-1b4b738f5d9f"
      },
      "source": [
        "xgb_grid.fit(x_train, y_train)"
      ],
      "execution_count": null,
      "outputs": [
        {
          "output_type": "stream",
          "text": [
            "Fitting 3 folds for each of 405 candidates, totalling 1215 fits\n"
          ],
          "name": "stdout"
        },
        {
          "output_type": "stream",
          "text": [
            "[Parallel(n_jobs=-1)]: Using backend LokyBackend with 2 concurrent workers.\n",
            "[Parallel(n_jobs=-1)]: Done 122 tasks      | elapsed:    4.4s\n",
            "[Parallel(n_jobs=-1)]: Done 722 tasks      | elapsed:   22.7s\n",
            "[Parallel(n_jobs=-1)]: Done 1215 out of 1215 | elapsed:   39.4s finished\n"
          ],
          "name": "stderr"
        },
        {
          "output_type": "execute_result",
          "data": {
            "text/plain": [
              "GridSearchCV(cv=3, error_score=nan,\n",
              "             estimator=XGBClassifier(base_score=0.5, booster='gbtree',\n",
              "                                     colsample_bylevel=1, colsample_bynode=1,\n",
              "                                     colsample_bytree=1, gamma=0,\n",
              "                                     learning_rate=0.1, max_delta_step=0,\n",
              "                                     max_depth=3, min_child_weight=1,\n",
              "                                     missing=None, n_estimators=100, n_jobs=1,\n",
              "                                     nthread=None, objective='binary:logistic',\n",
              "                                     random_state=42, reg_alpha=0, reg_lambda=1,\n",
              "                                     scale_pos_weight=1, seed=None, silent=None,\n",
              "                                     subsample=1, verbosity=1),\n",
              "             iid='deprecated', n_jobs=-1,\n",
              "             param_grid={'colsample_bytree': [0.6, 0.8, 1.0],\n",
              "                         'gamma': [0.5, 1, 1.5, 2, 5], 'max_depth': [3, 4, 5],\n",
              "                         'min_child_weight': [1, 5, 10],\n",
              "                         'subsample': [0.6, 0.8, 1.0]},\n",
              "             pre_dispatch='2*n_jobs', refit=True, return_train_score=False,\n",
              "             scoring=None, verbose=1)"
            ]
          },
          "metadata": {
            "tags": []
          },
          "execution_count": 466
        }
      ]
    },
    {
      "cell_type": "code",
      "metadata": {
        "colab": {
          "base_uri": "https://localhost:8080/"
        },
        "id": "oBhBSopzmKYp",
        "outputId": "8e2d3fa5-5d3e-4211-8be8-fe1d0def33de"
      },
      "source": [
        "xgb_grid.best_params_"
      ],
      "execution_count": null,
      "outputs": [
        {
          "output_type": "execute_result",
          "data": {
            "text/plain": [
              "{'colsample_bytree': 0.6,\n",
              " 'gamma': 5,\n",
              " 'max_depth': 5,\n",
              " 'min_child_weight': 1,\n",
              " 'subsample': 0.6}"
            ]
          },
          "metadata": {
            "tags": []
          },
          "execution_count": 467
        }
      ]
    },
    {
      "cell_type": "code",
      "metadata": {
        "colab": {
          "base_uri": "https://localhost:8080/"
        },
        "id": "_1TkySBHmW6j",
        "outputId": "6f8f095b-5f78-49ee-bc4a-54e864ba41fc"
      },
      "source": [
        "xgb_grid.best_estimator_"
      ],
      "execution_count": null,
      "outputs": [
        {
          "output_type": "execute_result",
          "data": {
            "text/plain": [
              "XGBClassifier(base_score=0.5, booster='gbtree', colsample_bylevel=1,\n",
              "              colsample_bynode=1, colsample_bytree=0.6, gamma=5,\n",
              "              learning_rate=0.1, max_delta_step=0, max_depth=5,\n",
              "              min_child_weight=1, missing=None, n_estimators=100, n_jobs=1,\n",
              "              nthread=None, objective='binary:logistic', random_state=42,\n",
              "              reg_alpha=0, reg_lambda=1, scale_pos_weight=1, seed=None,\n",
              "              silent=None, subsample=0.6, verbosity=1)"
            ]
          },
          "metadata": {
            "tags": []
          },
          "execution_count": 468
        }
      ]
    },
    {
      "cell_type": "code",
      "metadata": {
        "id": "-tGKEejFmZMc"
      },
      "source": [
        "xgb_class_opt = XGBClassifier(base_score=0.5, booster='gbtree', colsample_bylevel=1,\n",
        "              colsample_bynode=1, colsample_bytree=0.6, gamma=5,\n",
        "              learning_rate=0.1, max_delta_step=0, max_depth=5,\n",
        "              min_child_weight=1, missing=None, n_estimators=100, n_jobs=1,\n",
        "              nthread=None, objective='binary:logistic', random_state=42,\n",
        "              reg_alpha=0, reg_lambda=1, scale_pos_weight=1, seed=None,\n",
        "              silent=None, subsample=0.6, verbosity=1)"
      ],
      "execution_count": 220,
      "outputs": []
    },
    {
      "cell_type": "code",
      "metadata": {
        "id": "59pF1AsrmboP"
      },
      "source": [
        "xgb_class_opt.fit(x_train, y_train)\n",
        "y_xgb_pred = xgb_class_opt.predict(x_test)"
      ],
      "execution_count": 221,
      "outputs": []
    },
    {
      "cell_type": "code",
      "metadata": {
        "colab": {
          "base_uri": "https://localhost:8080/",
          "height": 298
        },
        "id": "c3b_Ko9-mg0y",
        "outputId": "9003148f-4591-4fdf-a9ba-5090dd5eb9bf"
      },
      "source": [
        "xgb_acc, xgb_auc = score(y_test, y_xgb_pred)"
      ],
      "execution_count": 222,
      "outputs": [
        {
          "output_type": "stream",
          "text": [
            "Accuracy Score 84.91620111731844 %\n",
            "ROC_AUC Score 85.25220860644058 %\n"
          ],
          "name": "stdout"
        },
        {
          "output_type": "display_data",
          "data": {
            "image/png": "[encoded data removed]",
            "text/plain": [
              "<Figure size 432x288 with 2 Axes>"
            ]
          },
          "metadata": {
            "tags": [],
            "needs_background": "light"
          }
        }
      ]
    },
    {
      "cell_type": "markdown",
      "metadata": {
        "id": "vKp1iixKm1hO"
      },
      "source": [
        "# Comparing Optimized Model Performance"
      ]
    },
    {
      "cell_type": "code",
      "metadata": {
        "id": "Y1Dak4qqmlW2"
      },
      "source": [
        "model_accuracy_opt = [kernel_acc, lgb_acc, xgb_acc]\n",
        "model_auc_opt = [kernel_auc, lgb_auc, xgb_auc]\n",
        "models_opt=[\"SVC Kernel\", \"LightGBM\", \"XGBoost\"]"
      ],
      "execution_count": 223,
      "outputs": []
    },
    {
      "cell_type": "code",
      "metadata": {
        "colab": {
          "base_uri": "https://localhost:8080/",
          "height": 584
        },
        "id": "48a4xTksnMbw",
        "outputId": "f51d9965-60f2-4924-b2b8-d5a210b5e6b0"
      },
      "source": [
        "plt.figure(figsize=(12,9))\n",
        "ax = sns.barplot(x=models_opt, y=model_accuracy_opt)\n",
        "for p in ax.patches:\n",
        "  height = p.get_height()\n",
        "  ax.text(p.get_x() + p.get_width()/2.,\n",
        "          height + 1,\n",
        "          '{:1.3f}%'.format(height),\n",
        "          ha='center')\n",
        "  \n",
        "plt.ylabel('Model Accuracy')\n",
        "plt.xlabel('Model Name')\n",
        "plt.title('Comparing Optimized Model Accuracy(Test Set)')"
      ],
      "execution_count": 224,
      "outputs": [
        {
          "output_type": "execute_result",
          "data": {
            "text/plain": [
              "Text(0.5, 1.0, 'Comparing Optimized Model Accuracy(Test Set)')"
            ]
          },
          "metadata": {
            "tags": []
          },
          "execution_count": 224
        },
        {
          "output_type": "display_data",
          "data": {
            "image/png": "[encoded data removed]",
            "text/plain": [
              "<Figure size 864x648 with 1 Axes>"
            ]
          },
          "metadata": {
            "tags": [],
            "needs_background": "light"
          }
        }
      ]
    },
    {
      "cell_type": "code",
      "metadata": {
        "colab": {
          "base_uri": "https://localhost:8080/",
          "height": 584
        },
        "id": "Y23hR0LVnS5Q",
        "outputId": "a6985014-6783-4c29-b2df-63f34425568c"
      },
      "source": [
        "plt.figure(figsize=(12,9))\n",
        "ax = sns.barplot(x=models_opt, y=model_auc_opt)\n",
        "for p in ax.patches:\n",
        "  height = p.get_height()\n",
        "  ax.text(p.get_x() + p.get_width()/2.,\n",
        "          height + 1,\n",
        "          '{:1.3f}%'.format(height),\n",
        "          ha='center')\n",
        "  \n",
        "plt.ylabel('Model AUC Score')\n",
        "plt.xlabel('Model Name')\n",
        "plt.title('Comparing Optimized Model AUC Score(Test Set)')"
      ],
      "execution_count": 225,
      "outputs": [
        {
          "output_type": "execute_result",
          "data": {
            "text/plain": [
              "Text(0.5, 1.0, 'Comparing Optimized Model AUC Score(Test Set)')"
            ]
          },
          "metadata": {
            "tags": []
          },
          "execution_count": 225
        },
        {
          "output_type": "display_data",
          "data": {
            "image/png": "[encoded data removed]",
            "text/plain": [
              "<Figure size 864x648 with 1 Axes>"
            ]
          },
          "metadata": {
            "tags": [],
            "needs_background": "light"
          }
        }
      ]
    },
    {
      "cell_type": "markdown",
      "metadata": {
        "id": "YPeI1BCunb6a"
      },
      "source": [
        "XGBoost seems like the best performing Model. We will confirm this by performing cross validation for the optimized models."
      ]
    },
    {
      "cell_type": "markdown",
      "metadata": {
        "id": "B_q4u8P8nnNT"
      },
      "source": [
        "# Cross Validation of the Optimized Models"
      ]
    },
    {
      "cell_type": "code",
      "metadata": {
        "id": "pu0bbQB2naSo"
      },
      "source": [
        "kernel_cv_opt = cross_val_score(svc_class_opt,x_train, y_train, cv=10, scoring='accuracy')\n",
        "lgb_cv_opt = cross_val_score(lgb_class_opt, x_train, y_train, cv=10, scoring='accuracy')\n",
        "xgb_cv_opt = cross_val_score(xgb_class_opt, x_train, y_train, cv=10, scoring='accuracy')"
      ],
      "execution_count": 226,
      "outputs": []
    },
    {
      "cell_type": "code",
      "metadata": {
        "colab": {
          "base_uri": "https://localhost:8080/"
        },
        "id": "_vPwiBNOn1aJ",
        "outputId": "621144a5-0bd3-4bd2-a14c-9926523fa743"
      },
      "source": [
        "print(\"Cross Validation Score for Optimized SVC Kernel Model is: {:1.3f} +- {:1.3f}\".format(kernel_cv_opt.mean()*100, kernel_cv_opt.std()*100))\n",
        "print(\"Cross Validation Score for Optimized LightGBM Model is: {:1.3f} +- {:1.3f}\".format(lgb_cv_opt.mean()*100, lgb_cv_opt.std()*100))\n",
        "print(\"Cross Validation Score for Optimized XGBoost Model is: {:1.3f} +- {:1.3f}\".format(xgb_cv_opt.mean()*100, xgb_cv_opt.std()*100))"
      ],
      "execution_count": 227,
      "outputs": [
        {
          "output_type": "stream",
          "text": [
            "Cross Validation Score for Optimized SVC Kernel Model is: 79.503 +- 4.866\n",
            "Cross Validation Score for Optimized LightGBM Model is: 80.495 +- 4.675\n",
            "Cross Validation Score for Optimized XGBoost Model is: 80.912 +- 4.208\n"
          ],
          "name": "stdout"
        }
      ]
    },
    {
      "cell_type": "markdown",
      "metadata": {
        "id": "XbdH_hh1oLXT"
      },
      "source": [
        "This is surprising. Cross Validation shows us that XGBoost was the best performing model with a **mean accuracy of 81% and standard deviation of 4.2%.**"
      ]
    },
    {
      "cell_type": "markdown",
      "metadata": {
        "id": "KhSyfibAog7-"
      },
      "source": [
        "# Test Submission Dataset"
      ]
    },
    {
      "cell_type": "markdown",
      "metadata": {
        "id": "-rBmQqhaqx_-"
      },
      "source": [
        "We will perform the same steps of data cleaning and preprocessing to get the Test data in the same format as our training data."
      ]
    },
    {
      "cell_type": "code",
      "metadata": {
        "colab": {
          "base_uri": "https://localhost:8080/"
        },
        "id": "EJ047I7yp39o",
        "outputId": "1a6d8f5d-d3ac-4400-f327-3cdf6b98f1aa"
      },
      "source": [
        "test.isnull().sum()/len(test)*100"
      ],
      "execution_count": 242,
      "outputs": [
        {
          "output_type": "execute_result",
          "data": {
            "text/plain": [
              "PassengerId     0.000000\n",
              "Pclass          0.000000\n",
              "Name            0.000000\n",
              "Sex             0.000000\n",
              "Age            20.574163\n",
              "SibSp           0.000000\n",
              "Parch           0.000000\n",
              "Ticket          0.000000\n",
              "Fare            0.239234\n",
              "Cabin          78.229665\n",
              "Embarked        0.000000\n",
              "dtype: float64"
            ]
          },
          "metadata": {
            "tags": []
          },
          "execution_count": 242
        }
      ]
    },
    {
      "cell_type": "code",
      "metadata": {
        "id": "MFmyEF_xq9c2"
      },
      "source": [
        "pid = test['PassengerId']"
      ],
      "execution_count": 243,
      "outputs": []
    },
    {
      "cell_type": "code",
      "metadata": {
        "id": "9dK4bDfdpqa8"
      },
      "source": [
        "test.drop(['Cabin', 'PassengerId', 'Ticket'], axis=1, inplace=True)"
      ],
      "execution_count": 244,
      "outputs": []
    },
    {
      "cell_type": "markdown",
      "metadata": {
        "id": "SH4_IGDSqWck"
      },
      "source": [
        "We will handle Age and Fare missing values by filling them with the mean."
      ]
    },
    {
      "cell_type": "code",
      "metadata": {
        "id": "omDujp1bproO"
      },
      "source": [
        "test['Age'].fillna(test['Age'].mean(), inplace=True)\n",
        "test['Fare'].fillna(test['Fare'].mean(), inplace=True)"
      ],
      "execution_count": 245,
      "outputs": []
    },
    {
      "cell_type": "code",
      "metadata": {
        "id": "AxSuQ6BNEG25"
      },
      "source": [
        "test['Age'] = test['Age'].astype(int)\n",
        "test['Fare'] = test['Fare'].astype(int)"
      ],
      "execution_count": 246,
      "outputs": []
    },
    {
      "cell_type": "markdown",
      "metadata": {
        "id": "wMtC9AezrH8k"
      },
      "source": [
        "Handling Categorical Features."
      ]
    },
    {
      "cell_type": "code",
      "metadata": {
        "id": "6zs0Uw5zqp9M"
      },
      "source": [
        "test['Sex'] = test['Sex'].map(sex_map)"
      ],
      "execution_count": 247,
      "outputs": []
    },
    {
      "cell_type": "code",
      "metadata": {
        "id": "GQFyI7l8rPg1"
      },
      "source": [
        "test['Embarked'] = test['Embarked'].map(embarked_map)"
      ],
      "execution_count": 248,
      "outputs": []
    },
    {
      "cell_type": "code",
      "metadata": {
        "id": "nxDaD2nCOerb"
      },
      "source": [
        "test['Age'] = test['Age'].astype(int)\n",
        "test.loc[test['Age'] <= 11, 'Age'] = 0\n",
        "test.loc[(test['Age'] > 11) & (test['Age'] <= 18), 'Age'] = 1\n",
        "test.loc[(test['Age'] > 18) & (test['Age'] <= 22), 'Age'] = 2\n",
        "test.loc[(test['Age'] > 22) & (test['Age'] <= 27), 'Age'] = 3\n",
        "test.loc[(test['Age'] > 27) & (test['Age'] <= 33), 'Age'] = 4\n",
        "test.loc[(test['Age'] > 33) & (test['Age'] <= 40), 'Age'] = 5\n",
        "test.loc[(test['Age'] > 40) & (test['Age'] <= 66), 'Age'] = 6\n",
        "test.loc[test['Age'] > 66, 'Age'] = 6"
      ],
      "execution_count": 249,
      "outputs": []
    },
    {
      "cell_type": "markdown",
      "metadata": {
        "id": "b9oS-ok_rZ8F"
      },
      "source": [
        "Extracting Title from Name"
      ]
    },
    {
      "cell_type": "code",
      "metadata": {
        "id": "QXOCnkcGrVNq"
      },
      "source": [
        "test['Title'] = test['Name'].apply(lambda x : extract_title(x))"
      ],
      "execution_count": 250,
      "outputs": []
    },
    {
      "cell_type": "code",
      "metadata": {
        "id": "-O3MEqgHreKZ"
      },
      "source": [
        "test['Title'] = test['Title'].replace(['Lady', 'Countess', 'Cap', 'Col', 'Don', 'Dr'\\\n",
        "                                                 'Major', 'Rev', 'Sir', 'Jonkheer', 'Dona'], 'Rare')"
      ],
      "execution_count": 251,
      "outputs": []
    },
    {
      "cell_type": "code",
      "metadata": {
        "id": "H-1uJ2l5-IBg"
      },
      "source": [
        "test['Title'] = test['Title'].replace('Mlle', 'Miss')\n",
        "test['Title'] = test['Title'].replace('Ms', 'Miss')\n",
        "test['Title'] = test['Title'].replace('Mme', 'Mrs')"
      ],
      "execution_count": 252,
      "outputs": []
    },
    {
      "cell_type": "code",
      "metadata": {
        "id": "Piz4C4hXX6jE"
      },
      "source": [
        "test['Title'] = test['Title'].map(titles)"
      ],
      "execution_count": 253,
      "outputs": []
    },
    {
      "cell_type": "code",
      "metadata": {
        "id": "KOu2ZtP7YUW5"
      },
      "source": [
        "test['Title'] = test['Title'].fillna(0)\n",
        "test['Title'] = test['Title'].astype(int)"
      ],
      "execution_count": 254,
      "outputs": []
    },
    {
      "cell_type": "code",
      "metadata": {
        "id": "-hbCodof67LV"
      },
      "source": [
        "test['Relatives'] = test['SibSp'] + test['Parch']"
      ],
      "execution_count": 255,
      "outputs": []
    },
    {
      "cell_type": "code",
      "metadata": {
        "id": "gnoQEAD867N2"
      },
      "source": [
        "test.loc[test['Relatives'] > 0, 'not_alone'] = 0\n",
        "test.loc[test['Relatives'] == 0, 'not_alone'] = 1\n",
        "test['not_alone'] = test['not_alone'].astype(int)"
      ],
      "execution_count": 256,
      "outputs": []
    },
    {
      "cell_type": "code",
      "metadata": {
        "id": "5Le6wYV5rhAK"
      },
      "source": [
        "test.drop(['Name'], axis=1, inplace=True)"
      ],
      "execution_count": 257,
      "outputs": []
    },
    {
      "cell_type": "code",
      "metadata": {
        "colab": {
          "base_uri": "https://localhost:8080/",
          "height": 203
        },
        "id": "SC0p2jsErmPx",
        "outputId": "03e21bdf-4c77-4283-a3b4-502cf39b0d80"
      },
      "source": [
        "test.head()"
      ],
      "execution_count": 258,
      "outputs": [
        {
          "output_type": "execute_result",
          "data": {
            "text/html": [
              "<div>\n",
              "<style scoped>\n",
              "    .dataframe tbody tr th:only-of-type {\n",
              "        vertical-align: middle;\n",
              "    }\n",
              "\n",
              "    .dataframe tbody tr th {\n",
              "        vertical-align: top;\n",
              "    }\n",
              "\n",
              "    .dataframe thead th {\n",
              "        text-align: right;\n",
              "    }\n",
              "</style>\n",
              "<table border=\"1\" class=\"dataframe\">\n",
              "  <thead>\n",
              "    <tr style=\"text-align: right;\">\n",
              "      <th></th>\n",
              "      <th>Pclass</th>\n",
              "      <th>Sex</th>\n",
              "      <th>Age</th>\n",
              "      <th>SibSp</th>\n",
              "      <th>Parch</th>\n",
              "      <th>Fare</th>\n",
              "      <th>Embarked</th>\n",
              "      <th>Title</th>\n",
              "      <th>Relatives</th>\n",
              "      <th>not_alone</th>\n",
              "    </tr>\n",
              "  </thead>\n",
              "  <tbody>\n",
              "    <tr>\n",
              "      <th>0</th>\n",
              "      <td>3</td>\n",
              "      <td>1</td>\n",
              "      <td>5</td>\n",
              "      <td>0</td>\n",
              "      <td>0</td>\n",
              "      <td>7</td>\n",
              "      <td>2</td>\n",
              "      <td>1</td>\n",
              "      <td>0</td>\n",
              "      <td>1</td>\n",
              "    </tr>\n",
              "    <tr>\n",
              "      <th>1</th>\n",
              "      <td>3</td>\n",
              "      <td>0</td>\n",
              "      <td>6</td>\n",
              "      <td>1</td>\n",
              "      <td>0</td>\n",
              "      <td>7</td>\n",
              "      <td>0</td>\n",
              "      <td>3</td>\n",
              "      <td>1</td>\n",
              "      <td>0</td>\n",
              "    </tr>\n",
              "    <tr>\n",
              "      <th>2</th>\n",
              "      <td>2</td>\n",
              "      <td>1</td>\n",
              "      <td>6</td>\n",
              "      <td>0</td>\n",
              "      <td>0</td>\n",
              "      <td>9</td>\n",
              "      <td>2</td>\n",
              "      <td>1</td>\n",
              "      <td>0</td>\n",
              "      <td>1</td>\n",
              "    </tr>\n",
              "    <tr>\n",
              "      <th>3</th>\n",
              "      <td>3</td>\n",
              "      <td>1</td>\n",
              "      <td>3</td>\n",
              "      <td>0</td>\n",
              "      <td>0</td>\n",
              "      <td>8</td>\n",
              "      <td>0</td>\n",
              "      <td>1</td>\n",
              "      <td>0</td>\n",
              "      <td>1</td>\n",
              "    </tr>\n",
              "    <tr>\n",
              "      <th>4</th>\n",
              "      <td>3</td>\n",
              "      <td>0</td>\n",
              "      <td>2</td>\n",
              "      <td>1</td>\n",
              "      <td>1</td>\n",
              "      <td>12</td>\n",
              "      <td>0</td>\n",
              "      <td>3</td>\n",
              "      <td>2</td>\n",
              "      <td>0</td>\n",
              "    </tr>\n",
              "  </tbody>\n",
              "</table>\n",
              "</div>"
            ],
            "text/plain": [
              "   Pclass  Sex  Age  SibSp  Parch  Fare  Embarked  Title  Relatives  not_alone\n",
              "0       3    1    5      0      0     7         2      1          0          1\n",
              "1       3    0    6      1      0     7         0      3          1          0\n",
              "2       2    1    6      0      0     9         2      1          0          1\n",
              "3       3    1    3      0      0     8         0      1          0          1\n",
              "4       3    0    2      1      1    12         0      3          2          0"
            ]
          },
          "metadata": {
            "tags": []
          },
          "execution_count": 258
        }
      ]
    },
    {
      "cell_type": "code",
      "metadata": {
        "id": "uQiyMtkKrnOW"
      },
      "source": [
        "test = test.values"
      ],
      "execution_count": 259,
      "outputs": []
    },
    {
      "cell_type": "markdown",
      "metadata": {
        "id": "RDKG4REysHDw"
      },
      "source": [
        "Feature Scaling Age and Fare"
      ]
    },
    {
      "cell_type": "code",
      "metadata": {
        "id": "36K4h25dr2ko"
      },
      "source": [
        "test = np.array(ct.transform(test))"
      ],
      "execution_count": 260,
      "outputs": []
    },
    {
      "cell_type": "markdown",
      "metadata": {
        "id": "T8Cfd55zschj"
      },
      "source": [
        "#### Our Test Data is ready for prediction."
      ]
    },
    {
      "cell_type": "code",
      "metadata": {
        "id": "w5Gj7sx7sYoR"
      },
      "source": [
        "svc_test = svc_class_opt.predict(test)\n",
        "svc_test = pd.Series(svc_test)"
      ],
      "execution_count": 261,
      "outputs": []
    },
    {
      "cell_type": "code",
      "metadata": {
        "id": "y945GaPOs0Ki"
      },
      "source": [
        "xgb_test = xgb_class_opt.predict(test)\n",
        "xgb_test = pd.Series(xgb_test)"
      ],
      "execution_count": 262,
      "outputs": []
    },
    {
      "cell_type": "code",
      "metadata": {
        "id": "ZPCilYnWs3gh"
      },
      "source": [
        "lgb_test = lgb_class_opt.predict(test)\n",
        "lgb_test = pd.Series(lgb_test)"
      ],
      "execution_count": 263,
      "outputs": []
    },
    {
      "cell_type": "markdown",
      "metadata": {
        "id": "WKG3cG0PwfFm"
      },
      "source": [
        "Putting the results into a DataFrame along with the PassengerId as per the Submission format."
      ]
    },
    {
      "cell_type": "code",
      "metadata": {
        "id": "YJgh5a8cuzyW"
      },
      "source": [
        "first_submission = pd.concat({'PassengerId' : pid, 'Survived': svc_test}, axis=1)\n",
        "second_submission = pd.concat({'PassengerId' : pid, 'Survived': xgb_test}, axis=1)\n",
        "third_submission = pd.concat({'PassengerId' : pid, 'Survived': lgb_test}, axis=1)"
      ],
      "execution_count": 264,
      "outputs": []
    },
    {
      "cell_type": "markdown",
      "metadata": {
        "id": "yTEH0UQUwmjg"
      },
      "source": [
        "Saving our Submissions as CSV files."
      ]
    },
    {
      "cell_type": "code",
      "metadata": {
        "id": "HFSXuMnGvt-0"
      },
      "source": [
        "first_submission.to_csv('Arnav_First_Submission.csv', index=False)"
      ],
      "execution_count": 265,
      "outputs": []
    },
    {
      "cell_type": "code",
      "metadata": {
        "id": "zgPbX4j4vvSD"
      },
      "source": [
        "second_submission.to_csv('Arnav_Second_Submission.csv', index=False)"
      ],
      "execution_count": 266,
      "outputs": []
    },
    {
      "cell_type": "code",
      "metadata": {
        "id": "c_5xSA_PwZPW"
      },
      "source": [
        "third_submission.to_csv('Arnav_Third_Submission.csv', index=False)"
      ],
      "execution_count": 267,
      "outputs": []
    },
    {
      "cell_type": "markdown",
      "metadata": {
        "id": "IifgcdO_ZgCI"
      },
      "source": [
        "# Deep Learning Approach"
      ]
    },
    {
      "cell_type": "code",
      "metadata": {
        "id": "EGzZ0daUZhiB"
      },
      "source": [
        "model1 = Sequential([\n",
        "                     Dense(units=64, activation='relu'),\n",
        "                     Dropout(0.25),\n",
        "                     Dense(units=16, activation='relu'),\n",
        "                     Dropout(0.25),\n",
        "                     Dense(units=4, activation='relu'),\n",
        "                     Dense(units=1, activation='sigmoid')\n",
        "])"
      ],
      "execution_count": 274,
      "outputs": []
    },
    {
      "cell_type": "code",
      "metadata": {
        "id": "12ntYgagZyHk"
      },
      "source": [
        "model1.compile(optimizer='adam', loss='binary_crossentropy', metrics=['accuracy'])"
      ],
      "execution_count": 275,
      "outputs": []
    },
    {
      "cell_type": "code",
      "metadata": {
        "colab": {
          "base_uri": "https://localhost:8080/"
        },
        "id": "IEw2BuueZ4Q7",
        "outputId": "db568342-b4db-4450-ac73-86b548e3fcf0"
      },
      "source": [
        "r1 = model1.fit(np.array(x_train).astype('float32'), y_train,\n",
        "                validation_data=(np.array(x_test).astype('float32'), y_test),\n",
        "                batch_size=128,\n",
        "                epochs=100)"
      ],
      "execution_count": 276,
      "outputs": [
        {
          "output_type": "stream",
          "text": [
            "Epoch 1/100\n",
            "6/6 [==============================] - 1s 33ms/step - loss: 0.6672 - accuracy: 0.6208 - val_loss: 0.6482 - val_accuracy: 0.6089\n",
            "Epoch 2/100\n",
            "6/6 [==============================] - 0s 10ms/step - loss: 0.6337 - accuracy: 0.6166 - val_loss: 0.6272 - val_accuracy: 0.6089\n",
            "Epoch 3/100\n",
            "6/6 [==============================] - 0s 6ms/step - loss: 0.6472 - accuracy: 0.6152 - val_loss: 0.6134 - val_accuracy: 0.6145\n",
            "Epoch 4/100\n",
            "6/6 [==============================] - 0s 6ms/step - loss: 0.6202 - accuracy: 0.6222 - val_loss: 0.6024 - val_accuracy: 0.6201\n",
            "Epoch 5/100\n",
            "6/6 [==============================] - 0s 6ms/step - loss: 0.6129 - accuracy: 0.6390 - val_loss: 0.5945 - val_accuracy: 0.6704\n",
            "Epoch 6/100\n",
            "6/6 [==============================] - 0s 8ms/step - loss: 0.5997 - accuracy: 0.6475 - val_loss: 0.5874 - val_accuracy: 0.6816\n",
            "Epoch 7/100\n",
            "6/6 [==============================] - 0s 7ms/step - loss: 0.6054 - accuracy: 0.6517 - val_loss: 0.5808 - val_accuracy: 0.7095\n",
            "Epoch 8/100\n",
            "6/6 [==============================] - 0s 6ms/step - loss: 0.5891 - accuracy: 0.6742 - val_loss: 0.5736 - val_accuracy: 0.7207\n",
            "Epoch 9/100\n",
            "6/6 [==============================] - 0s 7ms/step - loss: 0.5839 - accuracy: 0.6826 - val_loss: 0.5662 - val_accuracy: 0.7207\n",
            "Epoch 10/100\n",
            "6/6 [==============================] - 0s 7ms/step - loss: 0.5832 - accuracy: 0.6952 - val_loss: 0.5594 - val_accuracy: 0.7151\n",
            "Epoch 11/100\n",
            "6/6 [==============================] - 0s 7ms/step - loss: 0.5781 - accuracy: 0.6910 - val_loss: 0.5531 - val_accuracy: 0.7486\n",
            "Epoch 12/100\n",
            "6/6 [==============================] - 0s 6ms/step - loss: 0.5755 - accuracy: 0.6952 - val_loss: 0.5467 - val_accuracy: 0.7598\n",
            "Epoch 13/100\n",
            "6/6 [==============================] - 0s 6ms/step - loss: 0.5693 - accuracy: 0.7107 - val_loss: 0.5424 - val_accuracy: 0.7709\n",
            "Epoch 14/100\n",
            "6/6 [==============================] - 0s 7ms/step - loss: 0.5722 - accuracy: 0.7261 - val_loss: 0.5389 - val_accuracy: 0.7821\n",
            "Epoch 15/100\n",
            "6/6 [==============================] - 0s 9ms/step - loss: 0.5661 - accuracy: 0.7303 - val_loss: 0.5337 - val_accuracy: 0.7709\n",
            "Epoch 16/100\n",
            "6/6 [==============================] - 0s 7ms/step - loss: 0.5534 - accuracy: 0.7275 - val_loss: 0.5310 - val_accuracy: 0.7765\n",
            "Epoch 17/100\n",
            "6/6 [==============================] - 0s 7ms/step - loss: 0.5552 - accuracy: 0.7360 - val_loss: 0.5267 - val_accuracy: 0.7933\n",
            "Epoch 18/100\n",
            "6/6 [==============================] - 0s 7ms/step - loss: 0.5365 - accuracy: 0.7303 - val_loss: 0.5230 - val_accuracy: 0.8156\n",
            "Epoch 19/100\n",
            "6/6 [==============================] - 0s 8ms/step - loss: 0.5377 - accuracy: 0.7570 - val_loss: 0.5185 - val_accuracy: 0.8268\n",
            "Epoch 20/100\n",
            "6/6 [==============================] - 0s 6ms/step - loss: 0.5277 - accuracy: 0.7612 - val_loss: 0.5162 - val_accuracy: 0.8156\n",
            "Epoch 21/100\n",
            "6/6 [==============================] - 0s 6ms/step - loss: 0.5338 - accuracy: 0.7612 - val_loss: 0.5128 - val_accuracy: 0.8212\n",
            "Epoch 22/100\n",
            "6/6 [==============================] - 0s 9ms/step - loss: 0.5304 - accuracy: 0.7612 - val_loss: 0.5088 - val_accuracy: 0.8268\n",
            "Epoch 23/100\n",
            "6/6 [==============================] - 0s 6ms/step - loss: 0.5364 - accuracy: 0.7612 - val_loss: 0.5080 - val_accuracy: 0.8324\n",
            "Epoch 24/100\n",
            "6/6 [==============================] - 0s 6ms/step - loss: 0.5197 - accuracy: 0.7879 - val_loss: 0.5056 - val_accuracy: 0.8324\n",
            "Epoch 25/100\n",
            "6/6 [==============================] - 0s 6ms/step - loss: 0.5245 - accuracy: 0.7640 - val_loss: 0.5047 - val_accuracy: 0.8380\n",
            "Epoch 26/100\n",
            "6/6 [==============================] - 0s 6ms/step - loss: 0.5188 - accuracy: 0.7767 - val_loss: 0.5008 - val_accuracy: 0.8380\n",
            "Epoch 27/100\n",
            "6/6 [==============================] - 0s 6ms/step - loss: 0.5365 - accuracy: 0.7739 - val_loss: 0.5006 - val_accuracy: 0.8436\n",
            "Epoch 28/100\n",
            "6/6 [==============================] - 0s 6ms/step - loss: 0.5203 - accuracy: 0.7935 - val_loss: 0.4973 - val_accuracy: 0.8436\n",
            "Epoch 29/100\n",
            "6/6 [==============================] - 0s 7ms/step - loss: 0.5117 - accuracy: 0.7907 - val_loss: 0.4976 - val_accuracy: 0.8380\n",
            "Epoch 30/100\n",
            "6/6 [==============================] - 0s 6ms/step - loss: 0.5137 - accuracy: 0.7921 - val_loss: 0.4938 - val_accuracy: 0.8436\n",
            "Epoch 31/100\n",
            "6/6 [==============================] - 0s 6ms/step - loss: 0.5192 - accuracy: 0.7978 - val_loss: 0.4944 - val_accuracy: 0.8324\n",
            "Epoch 32/100\n",
            "6/6 [==============================] - 0s 7ms/step - loss: 0.5260 - accuracy: 0.7753 - val_loss: 0.4938 - val_accuracy: 0.8324\n",
            "Epoch 33/100\n",
            "6/6 [==============================] - 0s 7ms/step - loss: 0.5233 - accuracy: 0.7907 - val_loss: 0.4920 - val_accuracy: 0.8324\n",
            "Epoch 34/100\n",
            "6/6 [==============================] - 0s 6ms/step - loss: 0.5218 - accuracy: 0.7809 - val_loss: 0.4902 - val_accuracy: 0.8380\n",
            "Epoch 35/100\n",
            "6/6 [==============================] - 0s 7ms/step - loss: 0.5048 - accuracy: 0.7893 - val_loss: 0.4869 - val_accuracy: 0.8436\n",
            "Epoch 36/100\n",
            "6/6 [==============================] - 0s 7ms/step - loss: 0.5081 - accuracy: 0.7739 - val_loss: 0.4845 - val_accuracy: 0.8436\n",
            "Epoch 37/100\n",
            "6/6 [==============================] - 0s 8ms/step - loss: 0.5117 - accuracy: 0.7823 - val_loss: 0.4812 - val_accuracy: 0.8436\n",
            "Epoch 38/100\n",
            "6/6 [==============================] - 0s 7ms/step - loss: 0.5062 - accuracy: 0.7837 - val_loss: 0.4779 - val_accuracy: 0.8436\n",
            "Epoch 39/100\n",
            "6/6 [==============================] - 0s 6ms/step - loss: 0.5090 - accuracy: 0.7767 - val_loss: 0.4763 - val_accuracy: 0.8380\n",
            "Epoch 40/100\n",
            "6/6 [==============================] - 0s 6ms/step - loss: 0.5207 - accuracy: 0.7683 - val_loss: 0.4767 - val_accuracy: 0.8324\n",
            "Epoch 41/100\n",
            "6/6 [==============================] - 0s 6ms/step - loss: 0.5066 - accuracy: 0.7921 - val_loss: 0.4778 - val_accuracy: 0.8212\n",
            "Epoch 42/100\n",
            "6/6 [==============================] - 0s 7ms/step - loss: 0.5006 - accuracy: 0.7893 - val_loss: 0.4734 - val_accuracy: 0.8212\n",
            "Epoch 43/100\n",
            "6/6 [==============================] - 0s 7ms/step - loss: 0.4994 - accuracy: 0.7935 - val_loss: 0.4698 - val_accuracy: 0.8212\n",
            "Epoch 44/100\n",
            "6/6 [==============================] - 0s 6ms/step - loss: 0.4928 - accuracy: 0.8104 - val_loss: 0.4659 - val_accuracy: 0.8212\n",
            "Epoch 45/100\n",
            "6/6 [==============================] - 0s 7ms/step - loss: 0.4853 - accuracy: 0.8160 - val_loss: 0.4635 - val_accuracy: 0.8324\n",
            "Epoch 46/100\n",
            "6/6 [==============================] - 0s 6ms/step - loss: 0.4859 - accuracy: 0.7907 - val_loss: 0.4632 - val_accuracy: 0.8268\n",
            "Epoch 47/100\n",
            "6/6 [==============================] - 0s 6ms/step - loss: 0.4864 - accuracy: 0.8104 - val_loss: 0.4623 - val_accuracy: 0.8268\n",
            "Epoch 48/100\n",
            "6/6 [==============================] - 0s 8ms/step - loss: 0.4785 - accuracy: 0.8034 - val_loss: 0.4574 - val_accuracy: 0.8324\n",
            "Epoch 49/100\n",
            "6/6 [==============================] - 0s 6ms/step - loss: 0.4981 - accuracy: 0.8006 - val_loss: 0.4561 - val_accuracy: 0.8268\n",
            "Epoch 50/100\n",
            "6/6 [==============================] - 0s 7ms/step - loss: 0.4920 - accuracy: 0.7935 - val_loss: 0.4526 - val_accuracy: 0.8380\n",
            "Epoch 51/100\n",
            "6/6 [==============================] - 0s 7ms/step - loss: 0.4854 - accuracy: 0.8048 - val_loss: 0.4497 - val_accuracy: 0.8436\n",
            "Epoch 52/100\n",
            "6/6 [==============================] - 0s 6ms/step - loss: 0.4772 - accuracy: 0.8020 - val_loss: 0.4458 - val_accuracy: 0.8436\n",
            "Epoch 53/100\n",
            "6/6 [==============================] - 0s 8ms/step - loss: 0.4773 - accuracy: 0.8132 - val_loss: 0.4421 - val_accuracy: 0.8436\n",
            "Epoch 54/100\n",
            "6/6 [==============================] - 0s 7ms/step - loss: 0.4726 - accuracy: 0.8104 - val_loss: 0.4417 - val_accuracy: 0.8268\n",
            "Epoch 55/100\n",
            "6/6 [==============================] - 0s 7ms/step - loss: 0.4817 - accuracy: 0.7978 - val_loss: 0.4406 - val_accuracy: 0.8268\n",
            "Epoch 56/100\n",
            "6/6 [==============================] - 0s 7ms/step - loss: 0.4701 - accuracy: 0.8076 - val_loss: 0.4365 - val_accuracy: 0.8268\n",
            "Epoch 57/100\n",
            "6/6 [==============================] - 0s 6ms/step - loss: 0.4714 - accuracy: 0.8076 - val_loss: 0.4341 - val_accuracy: 0.8212\n",
            "Epoch 58/100\n",
            "6/6 [==============================] - 0s 7ms/step - loss: 0.4769 - accuracy: 0.8048 - val_loss: 0.4326 - val_accuracy: 0.8324\n",
            "Epoch 59/100\n",
            "6/6 [==============================] - 0s 6ms/step - loss: 0.4735 - accuracy: 0.8020 - val_loss: 0.4334 - val_accuracy: 0.8324\n",
            "Epoch 60/100\n",
            "6/6 [==============================] - 0s 6ms/step - loss: 0.4687 - accuracy: 0.8174 - val_loss: 0.4344 - val_accuracy: 0.8380\n",
            "Epoch 61/100\n",
            "6/6 [==============================] - 0s 7ms/step - loss: 0.4665 - accuracy: 0.8118 - val_loss: 0.4330 - val_accuracy: 0.8380\n",
            "Epoch 62/100\n",
            "6/6 [==============================] - 0s 6ms/step - loss: 0.4582 - accuracy: 0.8132 - val_loss: 0.4284 - val_accuracy: 0.8492\n",
            "Epoch 63/100\n",
            "6/6 [==============================] - 0s 7ms/step - loss: 0.4629 - accuracy: 0.8090 - val_loss: 0.4272 - val_accuracy: 0.8492\n",
            "Epoch 64/100\n",
            "6/6 [==============================] - 0s 6ms/step - loss: 0.4643 - accuracy: 0.8062 - val_loss: 0.4269 - val_accuracy: 0.8492\n",
            "Epoch 65/100\n",
            "6/6 [==============================] - 0s 6ms/step - loss: 0.4500 - accuracy: 0.8188 - val_loss: 0.4257 - val_accuracy: 0.8492\n",
            "Epoch 66/100\n",
            "6/6 [==============================] - 0s 7ms/step - loss: 0.4459 - accuracy: 0.8160 - val_loss: 0.4240 - val_accuracy: 0.8492\n",
            "Epoch 67/100\n",
            "6/6 [==============================] - 0s 6ms/step - loss: 0.4486 - accuracy: 0.8104 - val_loss: 0.4236 - val_accuracy: 0.8492\n",
            "Epoch 68/100\n",
            "6/6 [==============================] - 0s 8ms/step - loss: 0.4574 - accuracy: 0.8174 - val_loss: 0.4230 - val_accuracy: 0.8492\n",
            "Epoch 69/100\n",
            "6/6 [==============================] - 0s 6ms/step - loss: 0.4627 - accuracy: 0.8174 - val_loss: 0.4206 - val_accuracy: 0.8492\n",
            "Epoch 70/100\n",
            "6/6 [==============================] - 0s 7ms/step - loss: 0.4509 - accuracy: 0.8118 - val_loss: 0.4188 - val_accuracy: 0.8492\n",
            "Epoch 71/100\n",
            "6/6 [==============================] - 0s 7ms/step - loss: 0.4299 - accuracy: 0.8188 - val_loss: 0.4170 - val_accuracy: 0.8547\n",
            "Epoch 72/100\n",
            "6/6 [==============================] - 0s 6ms/step - loss: 0.4475 - accuracy: 0.8090 - val_loss: 0.4155 - val_accuracy: 0.8547\n",
            "Epoch 73/100\n",
            "6/6 [==============================] - 0s 7ms/step - loss: 0.4453 - accuracy: 0.8006 - val_loss: 0.4123 - val_accuracy: 0.8547\n",
            "Epoch 74/100\n",
            "6/6 [==============================] - 0s 6ms/step - loss: 0.4537 - accuracy: 0.8230 - val_loss: 0.4107 - val_accuracy: 0.8547\n",
            "Epoch 75/100\n",
            "6/6 [==============================] - 0s 7ms/step - loss: 0.4371 - accuracy: 0.8062 - val_loss: 0.4102 - val_accuracy: 0.8547\n",
            "Epoch 76/100\n",
            "6/6 [==============================] - 0s 6ms/step - loss: 0.4416 - accuracy: 0.8202 - val_loss: 0.4114 - val_accuracy: 0.8547\n",
            "Epoch 77/100\n",
            "6/6 [==============================] - 0s 7ms/step - loss: 0.4532 - accuracy: 0.8146 - val_loss: 0.4141 - val_accuracy: 0.8547\n",
            "Epoch 78/100\n",
            "6/6 [==============================] - 0s 7ms/step - loss: 0.4512 - accuracy: 0.8132 - val_loss: 0.4148 - val_accuracy: 0.8492\n",
            "Epoch 79/100\n",
            "6/6 [==============================] - 0s 6ms/step - loss: 0.4461 - accuracy: 0.8132 - val_loss: 0.4131 - val_accuracy: 0.8603\n",
            "Epoch 80/100\n",
            "6/6 [==============================] - 0s 7ms/step - loss: 0.4376 - accuracy: 0.8174 - val_loss: 0.4112 - val_accuracy: 0.8603\n",
            "Epoch 81/100\n",
            "6/6 [==============================] - 0s 6ms/step - loss: 0.4349 - accuracy: 0.8244 - val_loss: 0.4102 - val_accuracy: 0.8603\n",
            "Epoch 82/100\n",
            "6/6 [==============================] - 0s 6ms/step - loss: 0.4428 - accuracy: 0.8188 - val_loss: 0.4105 - val_accuracy: 0.8547\n",
            "Epoch 83/100\n",
            "6/6 [==============================] - 0s 8ms/step - loss: 0.4373 - accuracy: 0.8174 - val_loss: 0.4110 - val_accuracy: 0.8547\n",
            "Epoch 84/100\n",
            "6/6 [==============================] - 0s 6ms/step - loss: 0.4400 - accuracy: 0.8188 - val_loss: 0.4107 - val_accuracy: 0.8603\n",
            "Epoch 85/100\n",
            "6/6 [==============================] - 0s 8ms/step - loss: 0.4359 - accuracy: 0.8188 - val_loss: 0.4110 - val_accuracy: 0.8547\n",
            "Epoch 86/100\n",
            "6/6 [==============================] - 0s 7ms/step - loss: 0.4406 - accuracy: 0.8174 - val_loss: 0.4121 - val_accuracy: 0.8603\n",
            "Epoch 87/100\n",
            "6/6 [==============================] - 0s 6ms/step - loss: 0.4122 - accuracy: 0.8371 - val_loss: 0.4117 - val_accuracy: 0.8603\n",
            "Epoch 88/100\n",
            "6/6 [==============================] - 0s 6ms/step - loss: 0.4262 - accuracy: 0.8216 - val_loss: 0.4100 - val_accuracy: 0.8603\n",
            "Epoch 89/100\n",
            "6/6 [==============================] - 0s 6ms/step - loss: 0.4218 - accuracy: 0.8188 - val_loss: 0.4074 - val_accuracy: 0.8603\n",
            "Epoch 90/100\n",
            "6/6 [==============================] - 0s 8ms/step - loss: 0.4472 - accuracy: 0.8090 - val_loss: 0.4079 - val_accuracy: 0.8603\n",
            "Epoch 91/100\n",
            "6/6 [==============================] - 0s 6ms/step - loss: 0.4300 - accuracy: 0.8160 - val_loss: 0.4096 - val_accuracy: 0.8547\n",
            "Epoch 92/100\n",
            "6/6 [==============================] - 0s 11ms/step - loss: 0.4225 - accuracy: 0.8216 - val_loss: 0.4088 - val_accuracy: 0.8547\n",
            "Epoch 93/100\n",
            "6/6 [==============================] - 0s 6ms/step - loss: 0.4222 - accuracy: 0.8287 - val_loss: 0.4071 - val_accuracy: 0.8547\n",
            "Epoch 94/100\n",
            "6/6 [==============================] - 0s 7ms/step - loss: 0.4406 - accuracy: 0.8230 - val_loss: 0.4078 - val_accuracy: 0.8547\n",
            "Epoch 95/100\n",
            "6/6 [==============================] - 0s 6ms/step - loss: 0.4437 - accuracy: 0.8230 - val_loss: 0.4088 - val_accuracy: 0.8547\n",
            "Epoch 96/100\n",
            "6/6 [==============================] - 0s 6ms/step - loss: 0.4430 - accuracy: 0.8132 - val_loss: 0.4099 - val_accuracy: 0.8659\n",
            "Epoch 97/100\n",
            "6/6 [==============================] - 0s 7ms/step - loss: 0.4166 - accuracy: 0.8272 - val_loss: 0.4093 - val_accuracy: 0.8659\n",
            "Epoch 98/100\n",
            "6/6 [==============================] - 0s 6ms/step - loss: 0.4206 - accuracy: 0.8174 - val_loss: 0.4091 - val_accuracy: 0.8603\n",
            "Epoch 99/100\n",
            "6/6 [==============================] - 0s 9ms/step - loss: 0.4316 - accuracy: 0.8216 - val_loss: 0.4087 - val_accuracy: 0.8547\n",
            "Epoch 100/100\n",
            "6/6 [==============================] - 0s 7ms/step - loss: 0.4187 - accuracy: 0.8287 - val_loss: 0.4084 - val_accuracy: 0.8492\n"
          ],
          "name": "stdout"
        }
      ]
    },
    {
      "cell_type": "code",
      "metadata": {
        "colab": {
          "base_uri": "https://localhost:8080/",
          "height": 282
        },
        "id": "_YptGG37aMF4",
        "outputId": "bee81e51-3c08-4792-c1c4-b5cd5827addd"
      },
      "source": [
        "plt.plot(r1.history['accuracy'], label='Accuracy')\n",
        "plt.plot(r1.history['val_accuracy'], label='Val_Accuracy')\n",
        "plt.legend()"
      ],
      "execution_count": 277,
      "outputs": [
        {
          "output_type": "execute_result",
          "data": {
            "text/plain": [
              "<matplotlib.legend.Legend at 0x7f84ae3d3f50>"
            ]
          },
          "metadata": {
            "tags": []
          },
          "execution_count": 277
        },
        {
          "output_type": "display_data",
          "data": {
            "image/png": "[encoded data removed]",
            "text/plain": [
              "<Figure size 432x288 with 1 Axes>"
            ]
          },
          "metadata": {
            "tags": [],
            "needs_background": "light"
          }
        }
      ]
    },
    {
      "cell_type": "code",
      "metadata": {
        "id": "XpfuglhQaXPy"
      },
      "source": [
        "ann_test = model1.predict_classes(test)"
      ],
      "execution_count": 278,
      "outputs": []
    },
    {
      "cell_type": "code",
      "metadata": {
        "id": "EsBO1hqJamQf"
      },
      "source": [
        "ann_test = ann_test.ravel()"
      ],
      "execution_count": 280,
      "outputs": []
    },
    {
      "cell_type": "code",
      "metadata": {
        "id": "5LSTDZdraoIF"
      },
      "source": [
        "ann_test = pd.Series(ann_test)"
      ],
      "execution_count": 281,
      "outputs": []
    },
    {
      "cell_type": "code",
      "metadata": {
        "id": "3e0aAvseau6W"
      },
      "source": [
        "fourth_submission = pd.concat({'PassengerId' : pid, 'Survived': ann_test}, axis=1)"
      ],
      "execution_count": 283,
      "outputs": []
    },
    {
      "cell_type": "code",
      "metadata": {
        "id": "4eRYW-IOaysm"
      },
      "source": [
        "fourth_submission.to_csv('Arnav_Fourth_Submission.csv', index=False)"
      ],
      "execution_count": 284,
      "outputs": []
    }
  ]
}